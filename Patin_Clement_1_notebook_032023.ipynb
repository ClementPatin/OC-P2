{
 "cells": [
  {
   "cell_type": "markdown",
   "id": "3811c56a",
   "metadata": {},
   "source": [
    "# Ville de Paris - programme \"Végétalisons la ville\"\n",
    "\n",
    "# Data is for Good - aidons Paris à devenir une smart-city !\n",
    "\n",
    "##### Analyse exploratoire - Arbres de la ville de Paris<a class=\"anchor\" id=\"titre\"></a>\n",
    "![](imageArbresParis.jpg)\n",
    "\n",
    "Dans le cadre de sa politique Espaces Verts, la ville de Paris s'est associée avec l'ONG Data is for Good pour proposer un concours. Le challenge consiste à analyser un jeu de données portant sur les arbres de la Ville de Paris.\n",
    "l'objectif des services de la mairie est demieux comprendre ses données et à termes d'optimiser les tournées d'entretien de ses agents."
   ]
  },
  {
   "cell_type": "markdown",
   "id": "42cac465",
   "metadata": {},
   "source": [
    "### Table des matières\n",
    "* [Data is for Good & Ville de Paris](#titre)\n",
    "* [PARTIE 1 - PRÉSENTATION GÉNÉRALE DU JEU DE DONNÉES](#P1)\n",
    "    * [1.1) Importation du jeu de données et des librairies Python utiles](#11)\n",
    "    * [1.2) Caractéristiques générales du dataframe généré](#12)\n",
    "    * [1.3) des valeurs manquantes ?](#13)\n",
    "    * [1.4) Mesures statistiques sur les données brutes](#14)\n",
    "* [PARTIE 2 - DÉMARCHE MÉTHODOLOGIQUE D'ANALYSE DE DONNÉES](#P2)\n",
    "    * [2.1) Regardons les colonnes plus en détail](#21)\n",
    "    * [2.2) Nettoyage](#22)\n",
    "* [PARTIE 3 - SYNTHÈSE DE L'ANALYSE DE DONNÉES](#P3)\n",
    "\n"
   ]
  },
  {
   "cell_type": "markdown",
   "id": "9cecbfd9",
   "metadata": {},
   "source": [
    "# PARTIE 1 - PRÉSENTATION GÉNÉRALE DU JEU DE DONNÉES<a class=\"anchor\" id=\"P1\"></a>\n",
    "\n",
    "## 1.1) Importation du jeu de données et des librairies Python utiles <a class=\"anchor\" id=\"11\"></a>"
   ]
  },
  {
   "cell_type": "markdown",
   "id": "3fe3b922",
   "metadata": {},
   "source": [
    "Comme demandé dans le cahier des charges, nous allons explorer le jeu de données avec le langage Python sur un Jupyther Notebook.\n",
    "\n",
    "Les librairies utilisées seront :"
   ]
  },
  {
   "cell_type": "code",
   "execution_count": 1,
   "id": "7d35eb67",
   "metadata": {},
   "outputs": [],
   "source": [
    "import pandas as pd #to manipulate the dataset with dataframes\n",
    "import numpy as np #for statistics and calculations\n",
    "import matplotlib.pyplot as plt #for data visualisation\n",
    "%matplotlib inline\n",
    "import seaborn as sns #for data visualisation, with different proporties\n",
    "import scipy.stats as st #for other statistics\n",
    "import missingno as ms #for visualisation of missing data"
   ]
  },
  {
   "cell_type": "markdown",
   "id": "bc17f35a",
   "metadata": {},
   "source": [
    "Le data set fourni est mis à disposition par la ville de Paris et contient des informations sur les arbres dont la ville a en charge l'entretien.\n",
    "En voici une importation brute :"
   ]
  },
  {
   "cell_type": "code",
   "execution_count": 2,
   "id": "adcbc2b1",
   "metadata": {
    "scrolled": false
   },
   "outputs": [
    {
     "data": {
      "text/html": [
       "<div>\n",
       "<style scoped>\n",
       "    .dataframe tbody tr th:only-of-type {\n",
       "        vertical-align: middle;\n",
       "    }\n",
       "\n",
       "    .dataframe tbody tr th {\n",
       "        vertical-align: top;\n",
       "    }\n",
       "\n",
       "    .dataframe thead th {\n",
       "        text-align: right;\n",
       "    }\n",
       "</style>\n",
       "<table border=\"1\" class=\"dataframe\">\n",
       "  <thead>\n",
       "    <tr style=\"text-align: right;\">\n",
       "      <th></th>\n",
       "      <th>id</th>\n",
       "      <th>type_emplacement</th>\n",
       "      <th>domanialite</th>\n",
       "      <th>arrondissement</th>\n",
       "      <th>complement_addresse</th>\n",
       "      <th>numero</th>\n",
       "      <th>lieu</th>\n",
       "      <th>id_emplacement</th>\n",
       "      <th>libelle_francais</th>\n",
       "      <th>genre</th>\n",
       "      <th>espece</th>\n",
       "      <th>variete</th>\n",
       "      <th>circonference_cm</th>\n",
       "      <th>hauteur_m</th>\n",
       "      <th>stade_developpement</th>\n",
       "      <th>remarquable</th>\n",
       "      <th>geo_point_2d_a</th>\n",
       "      <th>geo_point_2d_b</th>\n",
       "    </tr>\n",
       "  </thead>\n",
       "  <tbody>\n",
       "    <tr>\n",
       "      <th>0</th>\n",
       "      <td>99874</td>\n",
       "      <td>Arbre</td>\n",
       "      <td>Jardin</td>\n",
       "      <td>PARIS 7E ARRDT</td>\n",
       "      <td>NaN</td>\n",
       "      <td>NaN</td>\n",
       "      <td>MAIRIE DU 7E 116 RUE DE GRENELLE PARIS 7E</td>\n",
       "      <td>19</td>\n",
       "      <td>Marronnier</td>\n",
       "      <td>Aesculus</td>\n",
       "      <td>hippocastanum</td>\n",
       "      <td>NaN</td>\n",
       "      <td>20</td>\n",
       "      <td>5</td>\n",
       "      <td>NaN</td>\n",
       "      <td>0.0</td>\n",
       "      <td>48.857620</td>\n",
       "      <td>2.320962</td>\n",
       "    </tr>\n",
       "    <tr>\n",
       "      <th>1</th>\n",
       "      <td>99875</td>\n",
       "      <td>Arbre</td>\n",
       "      <td>Jardin</td>\n",
       "      <td>PARIS 7E ARRDT</td>\n",
       "      <td>NaN</td>\n",
       "      <td>NaN</td>\n",
       "      <td>MAIRIE DU 7E 116 RUE DE GRENELLE PARIS 7E</td>\n",
       "      <td>20</td>\n",
       "      <td>If</td>\n",
       "      <td>Taxus</td>\n",
       "      <td>baccata</td>\n",
       "      <td>NaN</td>\n",
       "      <td>65</td>\n",
       "      <td>8</td>\n",
       "      <td>A</td>\n",
       "      <td>NaN</td>\n",
       "      <td>48.857656</td>\n",
       "      <td>2.321031</td>\n",
       "    </tr>\n",
       "    <tr>\n",
       "      <th>2</th>\n",
       "      <td>99876</td>\n",
       "      <td>Arbre</td>\n",
       "      <td>Jardin</td>\n",
       "      <td>PARIS 7E ARRDT</td>\n",
       "      <td>NaN</td>\n",
       "      <td>NaN</td>\n",
       "      <td>MAIRIE DU 7E 116 RUE DE GRENELLE PARIS 7E</td>\n",
       "      <td>21</td>\n",
       "      <td>If</td>\n",
       "      <td>Taxus</td>\n",
       "      <td>baccata</td>\n",
       "      <td>NaN</td>\n",
       "      <td>90</td>\n",
       "      <td>10</td>\n",
       "      <td>A</td>\n",
       "      <td>NaN</td>\n",
       "      <td>48.857705</td>\n",
       "      <td>2.321061</td>\n",
       "    </tr>\n",
       "    <tr>\n",
       "      <th>3</th>\n",
       "      <td>99877</td>\n",
       "      <td>Arbre</td>\n",
       "      <td>Jardin</td>\n",
       "      <td>PARIS 7E ARRDT</td>\n",
       "      <td>NaN</td>\n",
       "      <td>NaN</td>\n",
       "      <td>MAIRIE DU 7E 116 RUE DE GRENELLE PARIS 7E</td>\n",
       "      <td>22</td>\n",
       "      <td>Erable</td>\n",
       "      <td>Acer</td>\n",
       "      <td>negundo</td>\n",
       "      <td>NaN</td>\n",
       "      <td>60</td>\n",
       "      <td>8</td>\n",
       "      <td>A</td>\n",
       "      <td>NaN</td>\n",
       "      <td>48.857722</td>\n",
       "      <td>2.321006</td>\n",
       "    </tr>\n",
       "    <tr>\n",
       "      <th>4</th>\n",
       "      <td>99878</td>\n",
       "      <td>Arbre</td>\n",
       "      <td>Jardin</td>\n",
       "      <td>PARIS 17E ARRDT</td>\n",
       "      <td>NaN</td>\n",
       "      <td>NaN</td>\n",
       "      <td>PARC CLICHY-BATIGNOLLES-MARTIN LUTHER KING</td>\n",
       "      <td>000G0037</td>\n",
       "      <td>Arbre à miel</td>\n",
       "      <td>Tetradium</td>\n",
       "      <td>daniellii</td>\n",
       "      <td>NaN</td>\n",
       "      <td>38</td>\n",
       "      <td>0</td>\n",
       "      <td>NaN</td>\n",
       "      <td>NaN</td>\n",
       "      <td>48.890435</td>\n",
       "      <td>2.315289</td>\n",
       "    </tr>\n",
       "  </tbody>\n",
       "</table>\n",
       "</div>"
      ],
      "text/plain": [
       "      id type_emplacement domanialite   arrondissement complement_addresse  \\\n",
       "0  99874            Arbre      Jardin   PARIS 7E ARRDT                 NaN   \n",
       "1  99875            Arbre      Jardin   PARIS 7E ARRDT                 NaN   \n",
       "2  99876            Arbre      Jardin   PARIS 7E ARRDT                 NaN   \n",
       "3  99877            Arbre      Jardin   PARIS 7E ARRDT                 NaN   \n",
       "4  99878            Arbre      Jardin  PARIS 17E ARRDT                 NaN   \n",
       "\n",
       "   numero                                        lieu id_emplacement  \\\n",
       "0     NaN   MAIRIE DU 7E 116 RUE DE GRENELLE PARIS 7E             19   \n",
       "1     NaN   MAIRIE DU 7E 116 RUE DE GRENELLE PARIS 7E             20   \n",
       "2     NaN   MAIRIE DU 7E 116 RUE DE GRENELLE PARIS 7E             21   \n",
       "3     NaN   MAIRIE DU 7E 116 RUE DE GRENELLE PARIS 7E             22   \n",
       "4     NaN  PARC CLICHY-BATIGNOLLES-MARTIN LUTHER KING       000G0037   \n",
       "\n",
       "  libelle_francais      genre         espece variete  circonference_cm  \\\n",
       "0       Marronnier   Aesculus  hippocastanum     NaN                20   \n",
       "1               If      Taxus        baccata     NaN                65   \n",
       "2               If      Taxus        baccata     NaN                90   \n",
       "3           Erable       Acer        negundo     NaN                60   \n",
       "4     Arbre à miel  Tetradium      daniellii     NaN                38   \n",
       "\n",
       "   hauteur_m stade_developpement  remarquable  geo_point_2d_a  geo_point_2d_b  \n",
       "0          5                 NaN          0.0       48.857620        2.320962  \n",
       "1          8                   A          NaN       48.857656        2.321031  \n",
       "2         10                   A          NaN       48.857705        2.321061  \n",
       "3          8                   A          NaN       48.857722        2.321006  \n",
       "4          0                 NaN          NaN       48.890435        2.315289  "
      ]
     },
     "metadata": {},
     "output_type": "display_data"
    }
   ],
   "source": [
    "dataBrute=pd.read_csv(\"p2-arbres-fr.csv\", sep=';') #import data set in an dataframe\n",
    "\n",
    "display(dataBrute.head())"
   ]
  },
  {
   "cell_type": "markdown",
   "id": "3dcbe75e",
   "metadata": {},
   "source": [
    "## 1.2) Caractéristiques générales du dataframe généré<a class=\"anchor\" id=\"12\"></a>"
   ]
  },
  {
   "cell_type": "markdown",
   "id": "4a3d66a8",
   "metadata": {},
   "source": [
    "Déterminons dans un premier temps ses dimensions :"
   ]
  },
  {
   "cell_type": "code",
   "execution_count": 3,
   "id": "8b444dd0",
   "metadata": {},
   "outputs": [
    {
     "name": "stdout",
     "output_type": "stream",
     "text": [
      "La data set comporte  200137  lignes et  18  colonnes\n"
     ]
    }
   ],
   "source": [
    "print(\"La data set comporte \",dataBrute.shape[0],\" lignes et \",dataBrute.shape[1],\" colonnes\") #dimensions of the dataframe"
   ]
  },
  {
   "cell_type": "markdown",
   "id": "93405ced",
   "metadata": {},
   "source": [
    "Ensuite regardons les types de valeur de chaque colonne (utile pour savoir de quoi il retourne et comment les manipuler):"
   ]
  },
  {
   "cell_type": "code",
   "execution_count": 4,
   "id": "ba950c77",
   "metadata": {},
   "outputs": [
    {
     "data": {
      "text/plain": [
       "id                       int64\n",
       "type_emplacement        object\n",
       "domanialite             object\n",
       "arrondissement          object\n",
       "complement_addresse     object\n",
       "numero                 float64\n",
       "lieu                    object\n",
       "id_emplacement          object\n",
       "libelle_francais        object\n",
       "genre                   object\n",
       "espece                  object\n",
       "variete                 object\n",
       "circonference_cm         int64\n",
       "hauteur_m                int64\n",
       "stade_developpement     object\n",
       "remarquable            float64\n",
       "geo_point_2d_a         float64\n",
       "geo_point_2d_b         float64\n",
       "dtype: object"
      ]
     },
     "metadata": {},
     "output_type": "display_data"
    }
   ],
   "source": [
    "display(dataBrute.dtypes)"
   ]
  },
  {
   "cell_type": "markdown",
   "id": "42a91173",
   "metadata": {},
   "source": [
    "`int` correspond à des nombres entiers, `float` à des nombres décimaux et `object` à des données textuelles.\n",
    "\n",
    "Tout à l'air normal, sauf peut-être la colonne `id_emplacement` , qu'intuitivement, on aurait imaginé en entier. Peut-être des différences ou erreurs de formatage ?\n",
    "\n",
    "On pourrait penser que la colonne `arrondissmement` serait plus \"pratique\" en type entier. A voir."
   ]
  },
  {
   "cell_type": "markdown",
   "id": "0972b97b",
   "metadata": {},
   "source": [
    "On peut essayer aussi de décrire succintement à quoi correspond chaque colonne. "
   ]
  },
  {
   "cell_type": "code",
   "execution_count": 5,
   "id": "60e000c1",
   "metadata": {},
   "outputs": [],
   "source": [
    "# Description of each column, in a numpy array\n",
    "colDescripVar=np.array([\n",
    "    \"identifiant de chaque arbre sur la forme d'un numéro\",\n",
    "    \"type de végétal\",\n",
    "    \"type d'espace public où se situe l'arbre\",\n",
    "    \"arrondissement de Paris\",\n",
    "    \"complément d'adresse\",\n",
    "    \"numéro de l'adresse\",\n",
    "    \"adresse de l'arbre\",\n",
    "    \"identifiant de l'emplacement\",\n",
    "    \"nom de l'espèce en langage commun\",\n",
    "    \"genre de l'arbre\",\n",
    "    \"nom de l'espèce en latin\",\n",
    "    \"variété de l'espèce\",\n",
    "    \"circonférence en centimètres\",\n",
    "    \"hauteur en mètres\",\n",
    "    \"stade de développement, reflète l'âge\",\n",
    "    \"précise si oui ou non l'arbre est remarquable\",\n",
    "    \"latitude\",\n",
    "    \"longitude\"]\n",
    ")\n",
    "# the array is transformed into a column \n",
    "colDescripVar=colDescripVar.reshape(len(colDescripVar),1)"
   ]
  },
  {
   "cell_type": "markdown",
   "id": "5d5ed145",
   "metadata": {},
   "source": [
    "On remarque que ces colonnes peuvent être classées en différents groupes :\n",
    "- biométrie : décrire les arbres ou quantifier leurs caractéristiques\n",
    "- localisation : repérer chaque arbre dans Paris\n",
    "- identification : donner un numéro ou une chaine de caractère unique"
   ]
  },
  {
   "cell_type": "code",
   "execution_count": 6,
   "id": "873f99ac",
   "metadata": {},
   "outputs": [],
   "source": [
    "# create a columns for groups\n",
    "colGroupVar=np.array([\n",
    "    \"identification\",\n",
    "    \"biométrie\",\n",
    "    \"localisation\",\n",
    "    \"localisation\",\n",
    "    \"localisation\",\n",
    "    \"localisation\",\n",
    "    \"localisation\",\n",
    "    \"identification\",\n",
    "    \"biométrie\",\n",
    "    \"biométrie\",\n",
    "    \"biométrie\",\n",
    "    \"biométrie\",\n",
    "    \"biométrie\",\n",
    "    \"biométrie\",\n",
    "    \"biométrie\",\n",
    "    \"biométrie\",\n",
    "    \"localisation\",\n",
    "    \"localisation\"\n",
    "])\n",
    "colGroupVar=colGroupVar.reshape(len(colGroupVar),1)\n",
    "\n",
    "#put both arrays in a numpy board\n",
    "tabInfos=np.hstack((colDescripVar,colGroupVar,))"
   ]
  },
  {
   "cell_type": "markdown",
   "id": "16ce332e",
   "metadata": {},
   "source": [
    "Pour plus de lisibilité, on place ces informations dans un dataframe, que l'on nomme `dataInfos`."
   ]
  },
  {
   "cell_type": "code",
   "execution_count": 7,
   "id": "50de7cee",
   "metadata": {
    "scrolled": true
   },
   "outputs": [
    {
     "data": {
      "text/html": [
       "<div>\n",
       "<style scoped>\n",
       "    .dataframe tbody tr th:only-of-type {\n",
       "        vertical-align: middle;\n",
       "    }\n",
       "\n",
       "    .dataframe tbody tr th {\n",
       "        vertical-align: top;\n",
       "    }\n",
       "\n",
       "    .dataframe thead th {\n",
       "        text-align: right;\n",
       "    }\n",
       "</style>\n",
       "<table border=\"1\" class=\"dataframe\">\n",
       "  <thead>\n",
       "    <tr style=\"text-align: right;\">\n",
       "      <th></th>\n",
       "      <th>Description colonne</th>\n",
       "      <th>Groupe colonne</th>\n",
       "    </tr>\n",
       "  </thead>\n",
       "  <tbody>\n",
       "    <tr>\n",
       "      <th>id</th>\n",
       "      <td>identifiant de chaque arbre sur la forme d'un ...</td>\n",
       "      <td>identification</td>\n",
       "    </tr>\n",
       "    <tr>\n",
       "      <th>type_emplacement</th>\n",
       "      <td>type de végétal</td>\n",
       "      <td>biométrie</td>\n",
       "    </tr>\n",
       "    <tr>\n",
       "      <th>domanialite</th>\n",
       "      <td>type d'espace public où se situe l'arbre</td>\n",
       "      <td>localisation</td>\n",
       "    </tr>\n",
       "    <tr>\n",
       "      <th>arrondissement</th>\n",
       "      <td>arrondissement de Paris</td>\n",
       "      <td>localisation</td>\n",
       "    </tr>\n",
       "    <tr>\n",
       "      <th>complement_addresse</th>\n",
       "      <td>complément d'adresse</td>\n",
       "      <td>localisation</td>\n",
       "    </tr>\n",
       "    <tr>\n",
       "      <th>numero</th>\n",
       "      <td>numéro de l'adresse</td>\n",
       "      <td>localisation</td>\n",
       "    </tr>\n",
       "    <tr>\n",
       "      <th>lieu</th>\n",
       "      <td>adresse de l'arbre</td>\n",
       "      <td>localisation</td>\n",
       "    </tr>\n",
       "    <tr>\n",
       "      <th>id_emplacement</th>\n",
       "      <td>identifiant de l'emplacement</td>\n",
       "      <td>identification</td>\n",
       "    </tr>\n",
       "    <tr>\n",
       "      <th>libelle_francais</th>\n",
       "      <td>nom de l'espèce en langage commun</td>\n",
       "      <td>biométrie</td>\n",
       "    </tr>\n",
       "    <tr>\n",
       "      <th>genre</th>\n",
       "      <td>genre de l'arbre</td>\n",
       "      <td>biométrie</td>\n",
       "    </tr>\n",
       "    <tr>\n",
       "      <th>espece</th>\n",
       "      <td>nom de l'espèce en latin</td>\n",
       "      <td>biométrie</td>\n",
       "    </tr>\n",
       "    <tr>\n",
       "      <th>variete</th>\n",
       "      <td>variété de l'espèce</td>\n",
       "      <td>biométrie</td>\n",
       "    </tr>\n",
       "    <tr>\n",
       "      <th>circonference_cm</th>\n",
       "      <td>circonférence en centimètres</td>\n",
       "      <td>biométrie</td>\n",
       "    </tr>\n",
       "    <tr>\n",
       "      <th>hauteur_m</th>\n",
       "      <td>hauteur en mètres</td>\n",
       "      <td>biométrie</td>\n",
       "    </tr>\n",
       "    <tr>\n",
       "      <th>stade_developpement</th>\n",
       "      <td>stade de développement, reflète l'âge</td>\n",
       "      <td>biométrie</td>\n",
       "    </tr>\n",
       "    <tr>\n",
       "      <th>remarquable</th>\n",
       "      <td>précise si oui ou non l'arbre est remarquable</td>\n",
       "      <td>biométrie</td>\n",
       "    </tr>\n",
       "    <tr>\n",
       "      <th>geo_point_2d_a</th>\n",
       "      <td>latitude</td>\n",
       "      <td>localisation</td>\n",
       "    </tr>\n",
       "    <tr>\n",
       "      <th>geo_point_2d_b</th>\n",
       "      <td>longitude</td>\n",
       "      <td>localisation</td>\n",
       "    </tr>\n",
       "  </tbody>\n",
       "</table>\n",
       "</div>"
      ],
      "text/plain": [
       "                                                   Description colonne  \\\n",
       "id                   identifiant de chaque arbre sur la forme d'un ...   \n",
       "type_emplacement                                       type de végétal   \n",
       "domanialite                   type d'espace public où se situe l'arbre   \n",
       "arrondissement                                 arrondissement de Paris   \n",
       "complement_addresse                               complément d'adresse   \n",
       "numero                                             numéro de l'adresse   \n",
       "lieu                                                adresse de l'arbre   \n",
       "id_emplacement                            identifiant de l'emplacement   \n",
       "libelle_francais                     nom de l'espèce en langage commun   \n",
       "genre                                                 genre de l'arbre   \n",
       "espece                                        nom de l'espèce en latin   \n",
       "variete                                            variété de l'espèce   \n",
       "circonference_cm                          circonférence en centimètres   \n",
       "hauteur_m                                            hauteur en mètres   \n",
       "stade_developpement              stade de développement, reflète l'âge   \n",
       "remarquable              précise si oui ou non l'arbre est remarquable   \n",
       "geo_point_2d_a                                                latitude   \n",
       "geo_point_2d_b                                               longitude   \n",
       "\n",
       "                     Groupe colonne  \n",
       "id                   identification  \n",
       "type_emplacement          biométrie  \n",
       "domanialite            localisation  \n",
       "arrondissement         localisation  \n",
       "complement_addresse    localisation  \n",
       "numero                 localisation  \n",
       "lieu                   localisation  \n",
       "id_emplacement       identification  \n",
       "libelle_francais          biométrie  \n",
       "genre                     biométrie  \n",
       "espece                    biométrie  \n",
       "variete                   biométrie  \n",
       "circonference_cm          biométrie  \n",
       "hauteur_m                 biométrie  \n",
       "stade_developpement       biométrie  \n",
       "remarquable               biométrie  \n",
       "geo_point_2d_a         localisation  \n",
       "geo_point_2d_b         localisation  "
      ]
     },
     "metadata": {},
     "output_type": "display_data"
    }
   ],
   "source": [
    "#numpy board into pandas dataframe\n",
    "dataInfos=pd.DataFrame(index=dataBrute.columns,data=tabInfos,columns=[\"Description colonne\",\"Groupe colonne\"])\n",
    "\n",
    "display(dataInfos)"
   ]
  },
  {
   "cell_type": "markdown",
   "id": "67a73d2b",
   "metadata": {},
   "source": [
    "## 1.3) des valeurs manquantes ?<a class=\"anchor\" id=\"13\"></a>"
   ]
  },
  {
   "cell_type": "markdown",
   "id": "f76e1e8e",
   "metadata": {},
   "source": [
    "On peut s'intéresser aussi aux valeurs manquantes de notre jeu de données. On rajoute dans le tableau `dataInfos` :\n",
    "- une colonne avec le nombre de valeurs `NaN` (pour *Not a Number*)\n",
    "- une colonne avec la même information en pourcentage"
   ]
  },
  {
   "cell_type": "code",
   "execution_count": 8,
   "id": "383ea590",
   "metadata": {
    "scrolled": false
   },
   "outputs": [
    {
     "data": {
      "text/html": [
       "<div>\n",
       "<style scoped>\n",
       "    .dataframe tbody tr th:only-of-type {\n",
       "        vertical-align: middle;\n",
       "    }\n",
       "\n",
       "    .dataframe tbody tr th {\n",
       "        vertical-align: top;\n",
       "    }\n",
       "\n",
       "    .dataframe thead th {\n",
       "        text-align: right;\n",
       "    }\n",
       "</style>\n",
       "<table border=\"1\" class=\"dataframe\">\n",
       "  <thead>\n",
       "    <tr style=\"text-align: right;\">\n",
       "      <th></th>\n",
       "      <th>Description colonne</th>\n",
       "      <th>Groupe colonne</th>\n",
       "      <th>Nb NaN</th>\n",
       "      <th>% NaN</th>\n",
       "    </tr>\n",
       "  </thead>\n",
       "  <tbody>\n",
       "    <tr>\n",
       "      <th>id</th>\n",
       "      <td>identifiant de chaque arbre sur la forme d'un ...</td>\n",
       "      <td>identification</td>\n",
       "      <td>0</td>\n",
       "      <td>0 %</td>\n",
       "    </tr>\n",
       "    <tr>\n",
       "      <th>type_emplacement</th>\n",
       "      <td>type de végétal</td>\n",
       "      <td>biométrie</td>\n",
       "      <td>0</td>\n",
       "      <td>0 %</td>\n",
       "    </tr>\n",
       "    <tr>\n",
       "      <th>domanialite</th>\n",
       "      <td>type d'espace public où se situe l'arbre</td>\n",
       "      <td>localisation</td>\n",
       "      <td>1</td>\n",
       "      <td>0 %</td>\n",
       "    </tr>\n",
       "    <tr>\n",
       "      <th>arrondissement</th>\n",
       "      <td>arrondissement de Paris</td>\n",
       "      <td>localisation</td>\n",
       "      <td>0</td>\n",
       "      <td>0 %</td>\n",
       "    </tr>\n",
       "    <tr>\n",
       "      <th>complement_addresse</th>\n",
       "      <td>complément d'adresse</td>\n",
       "      <td>localisation</td>\n",
       "      <td>169235</td>\n",
       "      <td>85 %</td>\n",
       "    </tr>\n",
       "    <tr>\n",
       "      <th>numero</th>\n",
       "      <td>numéro de l'adresse</td>\n",
       "      <td>localisation</td>\n",
       "      <td>200137</td>\n",
       "      <td>100 %</td>\n",
       "    </tr>\n",
       "    <tr>\n",
       "      <th>lieu</th>\n",
       "      <td>adresse de l'arbre</td>\n",
       "      <td>localisation</td>\n",
       "      <td>0</td>\n",
       "      <td>0 %</td>\n",
       "    </tr>\n",
       "    <tr>\n",
       "      <th>id_emplacement</th>\n",
       "      <td>identifiant de l'emplacement</td>\n",
       "      <td>identification</td>\n",
       "      <td>0</td>\n",
       "      <td>0 %</td>\n",
       "    </tr>\n",
       "    <tr>\n",
       "      <th>libelle_francais</th>\n",
       "      <td>nom de l'espèce en langage commun</td>\n",
       "      <td>biométrie</td>\n",
       "      <td>1497</td>\n",
       "      <td>1 %</td>\n",
       "    </tr>\n",
       "    <tr>\n",
       "      <th>genre</th>\n",
       "      <td>genre de l'arbre</td>\n",
       "      <td>biométrie</td>\n",
       "      <td>16</td>\n",
       "      <td>0 %</td>\n",
       "    </tr>\n",
       "    <tr>\n",
       "      <th>espece</th>\n",
       "      <td>nom de l'espèce en latin</td>\n",
       "      <td>biométrie</td>\n",
       "      <td>1752</td>\n",
       "      <td>1 %</td>\n",
       "    </tr>\n",
       "    <tr>\n",
       "      <th>variete</th>\n",
       "      <td>variété de l'espèce</td>\n",
       "      <td>biométrie</td>\n",
       "      <td>163360</td>\n",
       "      <td>82 %</td>\n",
       "    </tr>\n",
       "    <tr>\n",
       "      <th>circonference_cm</th>\n",
       "      <td>circonférence en centimètres</td>\n",
       "      <td>biométrie</td>\n",
       "      <td>0</td>\n",
       "      <td>0 %</td>\n",
       "    </tr>\n",
       "    <tr>\n",
       "      <th>hauteur_m</th>\n",
       "      <td>hauteur en mètres</td>\n",
       "      <td>biométrie</td>\n",
       "      <td>0</td>\n",
       "      <td>0 %</td>\n",
       "    </tr>\n",
       "    <tr>\n",
       "      <th>stade_developpement</th>\n",
       "      <td>stade de développement, reflète l'âge</td>\n",
       "      <td>biométrie</td>\n",
       "      <td>67205</td>\n",
       "      <td>34 %</td>\n",
       "    </tr>\n",
       "    <tr>\n",
       "      <th>remarquable</th>\n",
       "      <td>précise si oui ou non l'arbre est remarquable</td>\n",
       "      <td>biométrie</td>\n",
       "      <td>63098</td>\n",
       "      <td>32 %</td>\n",
       "    </tr>\n",
       "    <tr>\n",
       "      <th>geo_point_2d_a</th>\n",
       "      <td>latitude</td>\n",
       "      <td>localisation</td>\n",
       "      <td>0</td>\n",
       "      <td>0 %</td>\n",
       "    </tr>\n",
       "    <tr>\n",
       "      <th>geo_point_2d_b</th>\n",
       "      <td>longitude</td>\n",
       "      <td>localisation</td>\n",
       "      <td>0</td>\n",
       "      <td>0 %</td>\n",
       "    </tr>\n",
       "  </tbody>\n",
       "</table>\n",
       "</div>"
      ],
      "text/plain": [
       "                                                   Description colonne  \\\n",
       "id                   identifiant de chaque arbre sur la forme d'un ...   \n",
       "type_emplacement                                       type de végétal   \n",
       "domanialite                   type d'espace public où se situe l'arbre   \n",
       "arrondissement                                 arrondissement de Paris   \n",
       "complement_addresse                               complément d'adresse   \n",
       "numero                                             numéro de l'adresse   \n",
       "lieu                                                adresse de l'arbre   \n",
       "id_emplacement                            identifiant de l'emplacement   \n",
       "libelle_francais                     nom de l'espèce en langage commun   \n",
       "genre                                                 genre de l'arbre   \n",
       "espece                                        nom de l'espèce en latin   \n",
       "variete                                            variété de l'espèce   \n",
       "circonference_cm                          circonférence en centimètres   \n",
       "hauteur_m                                            hauteur en mètres   \n",
       "stade_developpement              stade de développement, reflète l'âge   \n",
       "remarquable              précise si oui ou non l'arbre est remarquable   \n",
       "geo_point_2d_a                                                latitude   \n",
       "geo_point_2d_b                                               longitude   \n",
       "\n",
       "                     Groupe colonne  Nb NaN  % NaN  \n",
       "id                   identification       0    0 %  \n",
       "type_emplacement          biométrie       0    0 %  \n",
       "domanialite            localisation       1    0 %  \n",
       "arrondissement         localisation       0    0 %  \n",
       "complement_addresse    localisation  169235   85 %  \n",
       "numero                 localisation  200137  100 %  \n",
       "lieu                   localisation       0    0 %  \n",
       "id_emplacement       identification       0    0 %  \n",
       "libelle_francais          biométrie    1497    1 %  \n",
       "genre                     biométrie      16    0 %  \n",
       "espece                    biométrie    1752    1 %  \n",
       "variete                   biométrie  163360   82 %  \n",
       "circonference_cm          biométrie       0    0 %  \n",
       "hauteur_m                 biométrie       0    0 %  \n",
       "stade_developpement       biométrie   67205   34 %  \n",
       "remarquable               biométrie   63098   32 %  \n",
       "geo_point_2d_a         localisation       0    0 %  \n",
       "geo_point_2d_b         localisation       0    0 %  "
      ]
     },
     "metadata": {},
     "output_type": "display_data"
    }
   ],
   "source": [
    "dataInfos[\"Nb NaN\"]=dataBrute.isna().sum() #count the number of missing values in each column\n",
    "dataInfos[\"% NaN\"]=(round(dataBrute.isna().mean()*100)).astype(int).astype(str)+\" %\" #determine proportion of missing values \n",
    "# for each column\n",
    "display(dataInfos)"
   ]
  },
  {
   "cell_type": "markdown",
   "id": "b8b5f1cb",
   "metadata": {},
   "source": [
    "La fonction `missingno.matrix()` permet de visualiser ces valeurs manquantes et d'appréhender simplement la problèmatique :"
   ]
  },
  {
   "cell_type": "code",
   "execution_count": 9,
   "id": "d5d8bedb",
   "metadata": {
    "scrolled": false
   },
   "outputs": [
    {
     "data": {
      "image/png": "[encoded data removed]",
      "text/plain": [
       "<Figure size 2500x1000 with 1 Axes>"
      ]
     },
     "metadata": {},
     "output_type": "display_data"
    }
   ],
   "source": [
    "ms.matrix(dataBrute,color=[0.7,0.0,0.0],sparkline=False) #dataviz of missing data\n",
    "plt.show()"
   ]
  },
  {
   "cell_type": "markdown",
   "id": "66d93b96",
   "metadata": {},
   "source": [
    "On remarque que certaines colonnes sont vraiment très peu renseignées :\n",
    "\n",
    "- `complement_adresse` - 85% vide. Très difficile à considérer dans l'étude\n",
    "- `numero` - 100% vide. Ne pas la considérer\n",
    "- `variete`- 82% vide. très difficile à considérer\n",
    "- `stade_developpement`- 34% vide. Prendre garde.\n",
    "- `remarquable`- 34% vide. Prendre garde.\n",
    "\n",
    "On peut faire d'autre observations :\n",
    "\n",
    "- `espece` - 1% vide, `libelle_francais` - 1% vide, `genre` - 16 valeurs manquantes. Intéressant car visuellement les valeurs manquantes ne semblent pas être au même endroit. Serait peut-être possible de réaliser des imputations ?\n",
    "- `domanialité`- 1 valeur manquante. Individus peut-être supprimé."
   ]
  },
  {
   "cell_type": "markdown",
   "id": "fcc22cfd",
   "metadata": {},
   "source": [
    "## 1.4) Mesures statistiques sur les données brutes <a class=\"anchor\" id=\"14\"></a>"
   ]
  },
  {
   "cell_type": "markdown",
   "id": "39327bf2",
   "metadata": {},
   "source": [
    "On utilise la méthode `.describe()` pour nous renseigner sur la répartition des valeurs de chaque colonne.\n",
    "\n",
    "\n",
    "On affiche pour chaque colonne :\n",
    "- **count** : nombre de valeurs\n",
    "- **unique** : nombre de valeurs uniques\n",
    "- **top** : le mode, la valeur la plus fréquente (*que pour colonnes string*)\n",
    "- **freq** : la fréquence du mode (*que pour colonnes string*)\n",
    "- **mean** : la moyenne, la somme de toutes les valeurs divisée par leur nombre (*que pour colonnes int et float*)\n",
    "- **std** : l'écart type, la dispersion autour de la moyenne (*que pour colonnes int et float*)\n",
    "- **min** : minimum (*que pour colonnes int et float*)\n",
    "- **25%** : 1er quartile, 25% des valeurs sont en dessous, 75% au dessus (*que pour colonnes int et float*)\n",
    "- **50%** : médiane, 50% des valeurs sont en dessous, 50% au dessus (*que pour colonnes int et float*)\n",
    "- **75%** : 3ème quartile, 75% des valeurs sont en dessous, 25% au dessus (*que pour colonnes int et float*)\n",
    "- **max** : maximum (*que pour colonnes int et float*)\n",
    "\n",
    "Les **éventuels commentaires** ont été rajoutés en fin de tableau. Le nombre de valeurs n'est pas commenté (cf. valeurs manquantes, plus haut)."
   ]
  },
  {
   "cell_type": "code",
   "execution_count": 10,
   "id": "73176b36",
   "metadata": {
    "scrolled": false
   },
   "outputs": [
    {
     "data": {
      "text/html": [
       "<div>\n",
       "<style scoped>\n",
       "    .dataframe tbody tr th:only-of-type {\n",
       "        vertical-align: middle;\n",
       "    }\n",
       "\n",
       "    .dataframe tbody tr th {\n",
       "        vertical-align: top;\n",
       "    }\n",
       "\n",
       "    .dataframe thead th {\n",
       "        text-align: right;\n",
       "    }\n",
       "</style>\n",
       "<table border=\"1\" class=\"dataframe\">\n",
       "  <thead>\n",
       "    <tr style=\"text-align: right;\">\n",
       "      <th></th>\n",
       "      <th>id</th>\n",
       "      <th>type_emplacement</th>\n",
       "      <th>domanialite</th>\n",
       "      <th>arrondissement</th>\n",
       "      <th>complement_addresse</th>\n",
       "      <th>numero</th>\n",
       "      <th>lieu</th>\n",
       "      <th>id_emplacement</th>\n",
       "      <th>libelle_francais</th>\n",
       "      <th>genre</th>\n",
       "      <th>espece</th>\n",
       "      <th>variete</th>\n",
       "      <th>circonference_cm</th>\n",
       "      <th>hauteur_m</th>\n",
       "      <th>stade_developpement</th>\n",
       "      <th>remarquable</th>\n",
       "      <th>geo_point_2d_a</th>\n",
       "      <th>geo_point_2d_b</th>\n",
       "    </tr>\n",
       "  </thead>\n",
       "  <tbody>\n",
       "    <tr>\n",
       "      <th>count</th>\n",
       "      <td>200137.0</td>\n",
       "      <td>200137</td>\n",
       "      <td>200136</td>\n",
       "      <td>200137</td>\n",
       "      <td>30902</td>\n",
       "      <td>0.0</td>\n",
       "      <td>200137</td>\n",
       "      <td>200137</td>\n",
       "      <td>198640</td>\n",
       "      <td>200121</td>\n",
       "      <td>198385</td>\n",
       "      <td>36777</td>\n",
       "      <td>200137.0</td>\n",
       "      <td>200137.0</td>\n",
       "      <td>132932</td>\n",
       "      <td>137039.0</td>\n",
       "      <td>200137.0</td>\n",
       "      <td>200137.0</td>\n",
       "    </tr>\n",
       "    <tr>\n",
       "      <th>unique</th>\n",
       "      <td>NaN</td>\n",
       "      <td>1</td>\n",
       "      <td>9</td>\n",
       "      <td>25</td>\n",
       "      <td>3795</td>\n",
       "      <td>NaN</td>\n",
       "      <td>6921</td>\n",
       "      <td>69040</td>\n",
       "      <td>192</td>\n",
       "      <td>175</td>\n",
       "      <td>539</td>\n",
       "      <td>436</td>\n",
       "      <td>NaN</td>\n",
       "      <td>NaN</td>\n",
       "      <td>4</td>\n",
       "      <td>NaN</td>\n",
       "      <td>NaN</td>\n",
       "      <td>NaN</td>\n",
       "    </tr>\n",
       "    <tr>\n",
       "      <th>top</th>\n",
       "      <td>NaN</td>\n",
       "      <td>Arbre</td>\n",
       "      <td>Alignement</td>\n",
       "      <td>PARIS 15E ARRDT</td>\n",
       "      <td>SN°</td>\n",
       "      <td>NaN</td>\n",
       "      <td>PARC FLORAL DE PARIS / ROUTE DE LA PYRAMIDE</td>\n",
       "      <td>101001</td>\n",
       "      <td>Platane</td>\n",
       "      <td>Platanus</td>\n",
       "      <td>x hispanica</td>\n",
       "      <td>Baumannii'</td>\n",
       "      <td>NaN</td>\n",
       "      <td>NaN</td>\n",
       "      <td>A</td>\n",
       "      <td>NaN</td>\n",
       "      <td>NaN</td>\n",
       "      <td>NaN</td>\n",
       "    </tr>\n",
       "    <tr>\n",
       "      <th>freq</th>\n",
       "      <td>NaN</td>\n",
       "      <td>200137</td>\n",
       "      <td>104949</td>\n",
       "      <td>17151</td>\n",
       "      <td>557</td>\n",
       "      <td>NaN</td>\n",
       "      <td>2995</td>\n",
       "      <td>1324</td>\n",
       "      <td>42508</td>\n",
       "      <td>42591</td>\n",
       "      <td>36409</td>\n",
       "      <td>4538</td>\n",
       "      <td>NaN</td>\n",
       "      <td>NaN</td>\n",
       "      <td>64438</td>\n",
       "      <td>NaN</td>\n",
       "      <td>NaN</td>\n",
       "      <td>NaN</td>\n",
       "    </tr>\n",
       "    <tr>\n",
       "      <th>mean</th>\n",
       "      <td>387202.682308</td>\n",
       "      <td>NaN</td>\n",
       "      <td>NaN</td>\n",
       "      <td>NaN</td>\n",
       "      <td>NaN</td>\n",
       "      <td>NaN</td>\n",
       "      <td>NaN</td>\n",
       "      <td>NaN</td>\n",
       "      <td>NaN</td>\n",
       "      <td>NaN</td>\n",
       "      <td>NaN</td>\n",
       "      <td>NaN</td>\n",
       "      <td>83.380479</td>\n",
       "      <td>13.110509</td>\n",
       "      <td>NaN</td>\n",
       "      <td>0.001343</td>\n",
       "      <td>48.854491</td>\n",
       "      <td>2.348208</td>\n",
       "    </tr>\n",
       "    <tr>\n",
       "      <th>std</th>\n",
       "      <td>545603.242357</td>\n",
       "      <td>NaN</td>\n",
       "      <td>NaN</td>\n",
       "      <td>NaN</td>\n",
       "      <td>NaN</td>\n",
       "      <td>NaN</td>\n",
       "      <td>NaN</td>\n",
       "      <td>NaN</td>\n",
       "      <td>NaN</td>\n",
       "      <td>NaN</td>\n",
       "      <td>NaN</td>\n",
       "      <td>NaN</td>\n",
       "      <td>673.190213</td>\n",
       "      <td>1971.217387</td>\n",
       "      <td>NaN</td>\n",
       "      <td>0.036618</td>\n",
       "      <td>0.030234</td>\n",
       "      <td>0.05122</td>\n",
       "    </tr>\n",
       "    <tr>\n",
       "      <th>min</th>\n",
       "      <td>99874.0</td>\n",
       "      <td>NaN</td>\n",
       "      <td>NaN</td>\n",
       "      <td>NaN</td>\n",
       "      <td>NaN</td>\n",
       "      <td>NaN</td>\n",
       "      <td>NaN</td>\n",
       "      <td>NaN</td>\n",
       "      <td>NaN</td>\n",
       "      <td>NaN</td>\n",
       "      <td>NaN</td>\n",
       "      <td>NaN</td>\n",
       "      <td>0.0</td>\n",
       "      <td>0.0</td>\n",
       "      <td>NaN</td>\n",
       "      <td>0.0</td>\n",
       "      <td>48.74229</td>\n",
       "      <td>2.210241</td>\n",
       "    </tr>\n",
       "    <tr>\n",
       "      <th>25%</th>\n",
       "      <td>155927.0</td>\n",
       "      <td>NaN</td>\n",
       "      <td>NaN</td>\n",
       "      <td>NaN</td>\n",
       "      <td>NaN</td>\n",
       "      <td>NaN</td>\n",
       "      <td>NaN</td>\n",
       "      <td>NaN</td>\n",
       "      <td>NaN</td>\n",
       "      <td>NaN</td>\n",
       "      <td>NaN</td>\n",
       "      <td>NaN</td>\n",
       "      <td>30.0</td>\n",
       "      <td>5.0</td>\n",
       "      <td>NaN</td>\n",
       "      <td>0.0</td>\n",
       "      <td>48.835021</td>\n",
       "      <td>2.30753</td>\n",
       "    </tr>\n",
       "    <tr>\n",
       "      <th>50%</th>\n",
       "      <td>221078.0</td>\n",
       "      <td>NaN</td>\n",
       "      <td>NaN</td>\n",
       "      <td>NaN</td>\n",
       "      <td>NaN</td>\n",
       "      <td>NaN</td>\n",
       "      <td>NaN</td>\n",
       "      <td>NaN</td>\n",
       "      <td>NaN</td>\n",
       "      <td>NaN</td>\n",
       "      <td>NaN</td>\n",
       "      <td>NaN</td>\n",
       "      <td>70.0</td>\n",
       "      <td>8.0</td>\n",
       "      <td>NaN</td>\n",
       "      <td>0.0</td>\n",
       "      <td>48.854162</td>\n",
       "      <td>2.351095</td>\n",
       "    </tr>\n",
       "    <tr>\n",
       "      <th>75%</th>\n",
       "      <td>274102.0</td>\n",
       "      <td>NaN</td>\n",
       "      <td>NaN</td>\n",
       "      <td>NaN</td>\n",
       "      <td>NaN</td>\n",
       "      <td>NaN</td>\n",
       "      <td>NaN</td>\n",
       "      <td>NaN</td>\n",
       "      <td>NaN</td>\n",
       "      <td>NaN</td>\n",
       "      <td>NaN</td>\n",
       "      <td>NaN</td>\n",
       "      <td>115.0</td>\n",
       "      <td>12.0</td>\n",
       "      <td>NaN</td>\n",
       "      <td>0.0</td>\n",
       "      <td>48.876447</td>\n",
       "      <td>2.386838</td>\n",
       "    </tr>\n",
       "    <tr>\n",
       "      <th>max</th>\n",
       "      <td>2024745.0</td>\n",
       "      <td>NaN</td>\n",
       "      <td>NaN</td>\n",
       "      <td>NaN</td>\n",
       "      <td>NaN</td>\n",
       "      <td>NaN</td>\n",
       "      <td>NaN</td>\n",
       "      <td>NaN</td>\n",
       "      <td>NaN</td>\n",
       "      <td>NaN</td>\n",
       "      <td>NaN</td>\n",
       "      <td>NaN</td>\n",
       "      <td>250255.0</td>\n",
       "      <td>881818.0</td>\n",
       "      <td>NaN</td>\n",
       "      <td>1.0</td>\n",
       "      <td>48.911485</td>\n",
       "      <td>2.469759</td>\n",
       "    </tr>\n",
       "    <tr>\n",
       "      <th>Commentaire</th>\n",
       "      <td></td>\n",
       "      <td>une unique valeur : Arbre</td>\n",
       "      <td></td>\n",
       "      <td>+ d'uniques que d'arrondissements...</td>\n",
       "      <td></td>\n",
       "      <td></td>\n",
       "      <td></td>\n",
       "      <td></td>\n",
       "      <td></td>\n",
       "      <td></td>\n",
       "      <td></td>\n",
       "      <td></td>\n",
       "      <td>min et max étonnants / moy&gt;med</td>\n",
       "      <td>min et max étonnants / moy&gt;med</td>\n",
       "      <td>4 valeurs uniques</td>\n",
       "      <td></td>\n",
       "      <td></td>\n",
       "      <td></td>\n",
       "    </tr>\n",
       "  </tbody>\n",
       "</table>\n",
       "</div>"
      ],
      "text/plain": [
       "                        id           type_emplacement domanialite  \\\n",
       "count             200137.0                     200137      200136   \n",
       "unique                 NaN                          1           9   \n",
       "top                    NaN                      Arbre  Alignement   \n",
       "freq                   NaN                     200137      104949   \n",
       "mean         387202.682308                        NaN         NaN   \n",
       "std          545603.242357                        NaN         NaN   \n",
       "min                99874.0                        NaN         NaN   \n",
       "25%               155927.0                        NaN         NaN   \n",
       "50%               221078.0                        NaN         NaN   \n",
       "75%               274102.0                        NaN         NaN   \n",
       "max              2024745.0                        NaN         NaN   \n",
       "Commentaire                 une unique valeur : Arbre               \n",
       "\n",
       "                                   arrondissement complement_addresse numero  \\\n",
       "count                                      200137               30902    0.0   \n",
       "unique                                         25                3795    NaN   \n",
       "top                               PARIS 15E ARRDT                 SN°    NaN   \n",
       "freq                                        17151                 557    NaN   \n",
       "mean                                          NaN                 NaN    NaN   \n",
       "std                                           NaN                 NaN    NaN   \n",
       "min                                           NaN                 NaN    NaN   \n",
       "25%                                           NaN                 NaN    NaN   \n",
       "50%                                           NaN                 NaN    NaN   \n",
       "75%                                           NaN                 NaN    NaN   \n",
       "max                                           NaN                 NaN    NaN   \n",
       "Commentaire  + d'uniques que d'arrondissements...                              \n",
       "\n",
       "                                                    lieu id_emplacement  \\\n",
       "count                                             200137         200137   \n",
       "unique                                              6921          69040   \n",
       "top          PARC FLORAL DE PARIS / ROUTE DE LA PYRAMIDE         101001   \n",
       "freq                                                2995           1324   \n",
       "mean                                                 NaN            NaN   \n",
       "std                                                  NaN            NaN   \n",
       "min                                                  NaN            NaN   \n",
       "25%                                                  NaN            NaN   \n",
       "50%                                                  NaN            NaN   \n",
       "75%                                                  NaN            NaN   \n",
       "max                                                  NaN            NaN   \n",
       "Commentaire                                                               \n",
       "\n",
       "            libelle_francais     genre       espece     variete  \\\n",
       "count                 198640    200121       198385       36777   \n",
       "unique                   192       175          539         436   \n",
       "top                  Platane  Platanus  x hispanica  Baumannii'   \n",
       "freq                   42508     42591        36409        4538   \n",
       "mean                     NaN       NaN          NaN         NaN   \n",
       "std                      NaN       NaN          NaN         NaN   \n",
       "min                      NaN       NaN          NaN         NaN   \n",
       "25%                      NaN       NaN          NaN         NaN   \n",
       "50%                      NaN       NaN          NaN         NaN   \n",
       "75%                      NaN       NaN          NaN         NaN   \n",
       "max                      NaN       NaN          NaN         NaN   \n",
       "Commentaire                                                       \n",
       "\n",
       "                           circonference_cm                       hauteur_m  \\\n",
       "count                              200137.0                        200137.0   \n",
       "unique                                  NaN                             NaN   \n",
       "top                                     NaN                             NaN   \n",
       "freq                                    NaN                             NaN   \n",
       "mean                              83.380479                       13.110509   \n",
       "std                              673.190213                     1971.217387   \n",
       "min                                     0.0                             0.0   \n",
       "25%                                    30.0                             5.0   \n",
       "50%                                    70.0                             8.0   \n",
       "75%                                   115.0                            12.0   \n",
       "max                                250255.0                        881818.0   \n",
       "Commentaire  min et max étonnants / moy>med  min et max étonnants / moy>med   \n",
       "\n",
       "            stade_developpement remarquable geo_point_2d_a geo_point_2d_b  \n",
       "count                    132932    137039.0       200137.0       200137.0  \n",
       "unique                        4         NaN            NaN            NaN  \n",
       "top                           A         NaN            NaN            NaN  \n",
       "freq                      64438         NaN            NaN            NaN  \n",
       "mean                        NaN    0.001343      48.854491       2.348208  \n",
       "std                         NaN    0.036618       0.030234        0.05122  \n",
       "min                         NaN         0.0       48.74229       2.210241  \n",
       "25%                         NaN         0.0      48.835021        2.30753  \n",
       "50%                         NaN         0.0      48.854162       2.351095  \n",
       "75%                         NaN         0.0      48.876447       2.386838  \n",
       "max                         NaN         1.0      48.911485       2.469759  \n",
       "Commentaire   4 valeurs uniques                                            "
      ]
     },
     "metadata": {},
     "output_type": "display_data"
    }
   ],
   "source": [
    "dataDescribe=dataBrute.describe(include=\"all\")\n",
    "rowComments=[\"\",\"une unique valeur : Arbre\",\"\",\"+ d'uniques que d'arrondissements...\",\"\",\"\",\"\",\"\",\"\",\"\",\"\",\"\",\"min et max étonnants / moy>med\",\"min et max étonnants / moy>med\",\"4 valeurs uniques\",\"\",\"\",\"\"]\n",
    "dataDescribe.loc[\"Commentaire\"]=rowComments\n",
    "display(dataDescribe)\n"
   ]
  },
  {
   "cell_type": "markdown",
   "id": "8446b6bf",
   "metadata": {},
   "source": [
    "# PARTIE 2 - DÉMARCHE MÉTHODOLOGIQUE D'ANALYSE DE DONNÉES<a class=\"anchor\" id=\"P2\"></a>"
   ]
  },
  {
   "cell_type": "markdown",
   "id": "a34b3461",
   "metadata": {},
   "source": [
    "## 2.1) Regardons les colonnes plus en détail<a class=\"anchor\" id=\"21\"></a>"
   ]
  },
  {
   "cell_type": "markdown",
   "id": "15f0ba45",
   "metadata": {},
   "source": [
    "### Préambule - fonction pour les Visualisations\n",
    "Lorsque ce sera opportun, nous représenterons la distribution empirique des colonnes **qualitatives**. \n",
    "\n",
    "Dans les cas des colonnes comportants **beaucoup de modalités**, on pourra afficher la distribution seulement des modalités **les plus fréquentes**."
   ]
  },
  {
   "cell_type": "code",
   "execution_count": 11,
   "id": "92eeafd8",
   "metadata": {},
   "outputs": [],
   "source": [
    "# create function for drawing of empirical distribution of a columns\n",
    "\n",
    "def vizQuali (X,df=dataBrute, k=\"bar\",NbMod=30) : \n",
    "    '''input\n",
    "    X : string, column's name\n",
    "    df : pd.dataFrame, the dataframe used, by default dataBrute\n",
    "    k : string, tpye of chart, by defult bar plot\n",
    "    output\n",
    "    requested graph'''\n",
    "    \n",
    "    # size of text\n",
    "    plt.rcParams.update({\"font.size\":12})\n",
    "    \n",
    "    \n",
    "    # drawing the graph\n",
    "    \n",
    "    data=df[X].value_counts(normalize=True,ascending=True) # count occurrences and calculate frequencies\n",
    "    \n",
    "    if len (df[X].value_counts()) <= NbMod :\n",
    "        data.plot(kind=k) # draw         \n",
    "        plt.title(X+\" - Distribution empirique\", fontsize=14,fontweight=\"bold\") # title\n",
    "    else :\n",
    "        data.tail(NbMod).plot(kind=k) # draw       \n",
    "        plt.title(X+\" - Distribution empirique - \"+str(NbMod)+\" principales modalités\", fontsize=14,fontweight=\"bold\") # title\n",
    "    \n",
    "    \n",
    "    # set label and grid\n",
    "    if k==\"bar\" :\n",
    "        plt.ylabel(\"fréquence\")\n",
    "        plt.grid(axis=\"y\")\n",
    "    elif k==\"barh\" :\n",
    "        plt.xlabel(\"fréquence\")\n",
    "        plt.grid(axis=\"x\")\n",
    "\n"
   ]
  },
  {
   "cell_type": "markdown",
   "id": "9129fb8d",
   "metadata": {},
   "source": [
    "### Colonne `id` \n",
    "\n",
    "Y-a-t-il des doublons ?"
   ]
  },
  {
   "cell_type": "code",
   "execution_count": 12,
   "id": "5adb664a",
   "metadata": {
    "scrolled": true
   },
   "outputs": [
    {
     "name": "stdout",
     "output_type": "stream",
     "text": [
      "Il y a  0  doublon(s) en considérant la colonne id\n"
     ]
    }
   ],
   "source": [
    "# use .duplicated() method to which we associate .sum() to count the duplicate values\n",
    "print(\"Il y a \",dataBrute.duplicated(\"id\").sum(),\" doublon(s) en considérant la colonne id\")"
   ]
  },
  {
   "cell_type": "markdown",
   "id": "a9ada159",
   "metadata": {},
   "source": [
    "### Colonne `type_emplacement`"
   ]
  },
  {
   "cell_type": "markdown",
   "id": "b7017938",
   "metadata": {},
   "source": [
    "Nous avons vu que les valeurs de la colonne sont toutes identiques. Ce data set est peut-être issu d'un plus grand jeu de données dont il a été extrait. \n",
    "Pour notre étude nous pouvons ne pas considérer cette colonne.\n",
    "**Elle sera supprimée lors du nettoyage**."
   ]
  },
  {
   "cell_type": "markdown",
   "id": "5b583645",
   "metadata": {},
   "source": [
    "### Colonne `domanialite`\n",
    "\n",
    "Pour comprendre un peu mieux cette colonne, on peut visualiser les 9 modalités précédemment détectées, et se rendre compte de leur distribution :"
   ]
  },
  {
   "cell_type": "code",
   "execution_count": 13,
   "id": "d9e27429",
   "metadata": {
    "scrolled": false
   },
   "outputs": [
    {
     "data": {
      "image/png": "[encoded data removed]",
      "text/plain": [
       "<Figure size 640x480 with 1 Axes>"
      ]
     },
     "metadata": {},
     "output_type": "display_data"
    }
   ],
   "source": [
    "vizQuali(\"domanialite\")"
   ]
  },
  {
   "cell_type": "markdown",
   "id": "ec1f9b7c",
   "metadata": {},
   "source": [
    "On avez vu qu'il manquait une valeur. Celle-ci peut clairement être supprimée. \n",
    "Pour le sport, celle-ci est-elle évidente ?"
   ]
  },
  {
   "cell_type": "code",
   "execution_count": 14,
   "id": "4efb6a89",
   "metadata": {
    "scrolled": true
   },
   "outputs": [
    {
     "data": {
      "text/html": [
       "<div>\n",
       "<style scoped>\n",
       "    .dataframe tbody tr th:only-of-type {\n",
       "        vertical-align: middle;\n",
       "    }\n",
       "\n",
       "    .dataframe tbody tr th {\n",
       "        vertical-align: top;\n",
       "    }\n",
       "\n",
       "    .dataframe thead th {\n",
       "        text-align: right;\n",
       "    }\n",
       "</style>\n",
       "<table border=\"1\" class=\"dataframe\">\n",
       "  <thead>\n",
       "    <tr style=\"text-align: right;\">\n",
       "      <th></th>\n",
       "      <th>id</th>\n",
       "      <th>type_emplacement</th>\n",
       "      <th>domanialite</th>\n",
       "      <th>arrondissement</th>\n",
       "      <th>complement_addresse</th>\n",
       "      <th>numero</th>\n",
       "      <th>lieu</th>\n",
       "      <th>id_emplacement</th>\n",
       "      <th>libelle_francais</th>\n",
       "      <th>genre</th>\n",
       "      <th>espece</th>\n",
       "      <th>variete</th>\n",
       "      <th>circonference_cm</th>\n",
       "      <th>hauteur_m</th>\n",
       "      <th>stade_developpement</th>\n",
       "      <th>remarquable</th>\n",
       "      <th>geo_point_2d_a</th>\n",
       "      <th>geo_point_2d_b</th>\n",
       "    </tr>\n",
       "  </thead>\n",
       "  <tbody>\n",
       "    <tr>\n",
       "      <th>197239</th>\n",
       "      <td>2020911</td>\n",
       "      <td>Arbre</td>\n",
       "      <td>NaN</td>\n",
       "      <td>PARIS 20E ARRDT</td>\n",
       "      <td>NaN</td>\n",
       "      <td>NaN</td>\n",
       "      <td>JARDINS D IMMEUBLES PORTE DE VINCENNES NORD / ...</td>\n",
       "      <td>203006</td>\n",
       "      <td>Chimonanthe</td>\n",
       "      <td>Chimonanthus</td>\n",
       "      <td>praecox</td>\n",
       "      <td>NaN</td>\n",
       "      <td>35</td>\n",
       "      <td>4</td>\n",
       "      <td>JA</td>\n",
       "      <td>0.0</td>\n",
       "      <td>48.849547</td>\n",
       "      <td>2.41419</td>\n",
       "    </tr>\n",
       "  </tbody>\n",
       "</table>\n",
       "</div>"
      ],
      "text/plain": [
       "             id type_emplacement domanialite   arrondissement  \\\n",
       "197239  2020911            Arbre         NaN  PARIS 20E ARRDT   \n",
       "\n",
       "       complement_addresse  numero  \\\n",
       "197239                 NaN     NaN   \n",
       "\n",
       "                                                     lieu id_emplacement  \\\n",
       "197239  JARDINS D IMMEUBLES PORTE DE VINCENNES NORD / ...         203006   \n",
       "\n",
       "       libelle_francais         genre   espece variete  circonference_cm  \\\n",
       "197239      Chimonanthe  Chimonanthus  praecox     NaN                35   \n",
       "\n",
       "        hauteur_m stade_developpement  remarquable  geo_point_2d_a  \\\n",
       "197239          4                  JA          0.0       48.849547   \n",
       "\n",
       "        geo_point_2d_b  \n",
       "197239         2.41419  "
      ]
     },
     "execution_count": 14,
     "metadata": {},
     "output_type": "execute_result"
    }
   ],
   "source": [
    "#let's see what tree it is\n",
    "dataBrute.loc[dataBrute[\"domanialite\"].isna(),:]"
   ]
  },
  {
   "cell_type": "code",
   "execution_count": 15,
   "id": "bc0053c6",
   "metadata": {},
   "outputs": [
    {
     "data": {
      "text/plain": [
       "Jardin    81\n",
       "Name: domanialite, dtype: int64"
      ]
     },
     "execution_count": 15,
     "metadata": {},
     "output_type": "execute_result"
    }
   ],
   "source": [
    "#the place seems to indicate a garden, let's check\n",
    "dataBrute.loc[dataBrute[\"lieu\"].str.startswith(\"JARDINS D IMMEUBLES\"),\"domanialite\"].value_counts()"
   ]
  },
  {
   "cell_type": "markdown",
   "id": "3c2cb345",
   "metadata": {},
   "source": [
    "On pourrait imputer cette valeur."
   ]
  },
  {
   "cell_type": "markdown",
   "id": "6249c98b",
   "metadata": {},
   "source": [
    "### Colonne `arrondissement`\n",
    "\n",
    "Cette colonne avait peu (bien que trop ?) de valeurs uniques. On peut la visualiser."
   ]
  },
  {
   "cell_type": "code",
   "execution_count": 16,
   "id": "948c5de4",
   "metadata": {
    "scrolled": false
   },
   "outputs": [
    {
     "data": {
      "image/png": "[encoded data removed]",
      "text/plain": [
       "<Figure size 640x480 with 1 Axes>"
      ]
     },
     "metadata": {},
     "output_type": "display_data"
    }
   ],
   "source": [
    "vizQuali(\"arrondissement\",k=\"barh\")"
   ]
  },
  {
   "cell_type": "markdown",
   "id": "fa679920",
   "metadata": {},
   "source": [
    "On comprend mieux pourquoi :\n",
    "- il y avait plus de modalités uniques que d'arrondissements...\n",
    "- cette colonne n'a pas été créée en type `int`\n",
    "\n",
    "Après recherche, on s'apparçoit que la ville de Paris a en propriété le bois de Boulogne (rattaché au 16ème arrondissement) et la bois de Vincennes (rattaché au 12ème).\n",
    "\n",
    "On peut néanmoins s'interroger sur les départements ..."
   ]
  },
  {
   "cell_type": "code",
   "execution_count": 17,
   "id": "20bcaaa7",
   "metadata": {
    "scrolled": true
   },
   "outputs": [
    {
     "data": {
      "text/html": [
       "<div>\n",
       "<style scoped>\n",
       "    .dataframe tbody tr th:only-of-type {\n",
       "        vertical-align: middle;\n",
       "    }\n",
       "\n",
       "    .dataframe tbody tr th {\n",
       "        vertical-align: top;\n",
       "    }\n",
       "\n",
       "    .dataframe thead th {\n",
       "        text-align: right;\n",
       "    }\n",
       "</style>\n",
       "<table border=\"1\" class=\"dataframe\">\n",
       "  <thead>\n",
       "    <tr style=\"text-align: right;\">\n",
       "      <th></th>\n",
       "      <th>id</th>\n",
       "      <th>type_emplacement</th>\n",
       "      <th>domanialite</th>\n",
       "      <th>arrondissement</th>\n",
       "      <th>complement_addresse</th>\n",
       "      <th>numero</th>\n",
       "      <th>lieu</th>\n",
       "      <th>id_emplacement</th>\n",
       "      <th>libelle_francais</th>\n",
       "      <th>genre</th>\n",
       "      <th>espece</th>\n",
       "      <th>variete</th>\n",
       "      <th>circonference_cm</th>\n",
       "      <th>hauteur_m</th>\n",
       "      <th>stade_developpement</th>\n",
       "      <th>remarquable</th>\n",
       "      <th>geo_point_2d_a</th>\n",
       "      <th>geo_point_2d_b</th>\n",
       "    </tr>\n",
       "  </thead>\n",
       "  <tbody>\n",
       "    <tr>\n",
       "      <th>34598</th>\n",
       "      <td>139997</td>\n",
       "      <td>Arbre</td>\n",
       "      <td>CIMETIERE</td>\n",
       "      <td>VAL-DE-MARNE</td>\n",
       "      <td>NaN</td>\n",
       "      <td>NaN</td>\n",
       "      <td>CIMETIERE D'IVRY / DIV 40</td>\n",
       "      <td>D00000040021</td>\n",
       "      <td>Erable</td>\n",
       "      <td>Acer</td>\n",
       "      <td>campestre</td>\n",
       "      <td>NaN</td>\n",
       "      <td>75</td>\n",
       "      <td>5</td>\n",
       "      <td>JA</td>\n",
       "      <td>0.0</td>\n",
       "      <td>48.814509</td>\n",
       "      <td>2.368360</td>\n",
       "    </tr>\n",
       "    <tr>\n",
       "      <th>34599</th>\n",
       "      <td>139998</td>\n",
       "      <td>Arbre</td>\n",
       "      <td>CIMETIERE</td>\n",
       "      <td>VAL-DE-MARNE</td>\n",
       "      <td>NaN</td>\n",
       "      <td>NaN</td>\n",
       "      <td>CIMETIERE D'IVRY / DIV 40</td>\n",
       "      <td>D00000040023</td>\n",
       "      <td>Erable</td>\n",
       "      <td>Acer</td>\n",
       "      <td>monspessulanum</td>\n",
       "      <td>NaN</td>\n",
       "      <td>90</td>\n",
       "      <td>7</td>\n",
       "      <td>JA</td>\n",
       "      <td>0.0</td>\n",
       "      <td>48.814360</td>\n",
       "      <td>2.367689</td>\n",
       "    </tr>\n",
       "    <tr>\n",
       "      <th>34600</th>\n",
       "      <td>140000</td>\n",
       "      <td>Arbre</td>\n",
       "      <td>CIMETIERE</td>\n",
       "      <td>SEINE-SAINT-DENIS</td>\n",
       "      <td>NaN</td>\n",
       "      <td>NaN</td>\n",
       "      <td>CIMETIERE DE PANTIN / AVENUE DES PLATANES D'OR...</td>\n",
       "      <td>A08200009009</td>\n",
       "      <td>Platane</td>\n",
       "      <td>Platanus</td>\n",
       "      <td>x hispanica</td>\n",
       "      <td>NaN</td>\n",
       "      <td>25</td>\n",
       "      <td>5</td>\n",
       "      <td>J</td>\n",
       "      <td>0.0</td>\n",
       "      <td>48.906793</td>\n",
       "      <td>2.401695</td>\n",
       "    </tr>\n",
       "    <tr>\n",
       "      <th>34602</th>\n",
       "      <td>140035</td>\n",
       "      <td>Arbre</td>\n",
       "      <td>CIMETIERE</td>\n",
       "      <td>VAL-DE-MARNE</td>\n",
       "      <td>NaN</td>\n",
       "      <td>NaN</td>\n",
       "      <td>CIMETIERE D'IVRY / AVENUE DU NORD / DIV 46</td>\n",
       "      <td>A09800046001</td>\n",
       "      <td>Platane</td>\n",
       "      <td>Platanus</td>\n",
       "      <td>x hispanica</td>\n",
       "      <td>NaN</td>\n",
       "      <td>308</td>\n",
       "      <td>28</td>\n",
       "      <td>A</td>\n",
       "      <td>0.0</td>\n",
       "      <td>48.815150</td>\n",
       "      <td>2.368099</td>\n",
       "    </tr>\n",
       "    <tr>\n",
       "      <th>34603</th>\n",
       "      <td>140036</td>\n",
       "      <td>Arbre</td>\n",
       "      <td>CIMETIERE</td>\n",
       "      <td>VAL-DE-MARNE</td>\n",
       "      <td>NaN</td>\n",
       "      <td>NaN</td>\n",
       "      <td>CIMETIERE D'IVRY / AVENUE DU NORD / DIV 19</td>\n",
       "      <td>A09800019002</td>\n",
       "      <td>Marronnier</td>\n",
       "      <td>Aesculus</td>\n",
       "      <td>hippocastanum</td>\n",
       "      <td>Baumannii'</td>\n",
       "      <td>65</td>\n",
       "      <td>8</td>\n",
       "      <td>JA</td>\n",
       "      <td>0.0</td>\n",
       "      <td>48.811981</td>\n",
       "      <td>2.367481</td>\n",
       "    </tr>\n",
       "    <tr>\n",
       "      <th>...</th>\n",
       "      <td>...</td>\n",
       "      <td>...</td>\n",
       "      <td>...</td>\n",
       "      <td>...</td>\n",
       "      <td>...</td>\n",
       "      <td>...</td>\n",
       "      <td>...</td>\n",
       "      <td>...</td>\n",
       "      <td>...</td>\n",
       "      <td>...</td>\n",
       "      <td>...</td>\n",
       "      <td>...</td>\n",
       "      <td>...</td>\n",
       "      <td>...</td>\n",
       "      <td>...</td>\n",
       "      <td>...</td>\n",
       "      <td>...</td>\n",
       "      <td>...</td>\n",
       "    </tr>\n",
       "    <tr>\n",
       "      <th>198691</th>\n",
       "      <td>2022764</td>\n",
       "      <td>Arbre</td>\n",
       "      <td>CIMETIERE</td>\n",
       "      <td>VAL-DE-MARNE</td>\n",
       "      <td>NaN</td>\n",
       "      <td>NaN</td>\n",
       "      <td>CIMETIERE DE THIAIS / AVENUE DU POURTOUR EST /...</td>\n",
       "      <td>A101000F7006</td>\n",
       "      <td>Tilleul</td>\n",
       "      <td>Tilia</td>\n",
       "      <td>cordata</td>\n",
       "      <td>NaN</td>\n",
       "      <td>130</td>\n",
       "      <td>10</td>\n",
       "      <td>NaN</td>\n",
       "      <td>0.0</td>\n",
       "      <td>48.767655</td>\n",
       "      <td>2.375209</td>\n",
       "    </tr>\n",
       "    <tr>\n",
       "      <th>198692</th>\n",
       "      <td>2022765</td>\n",
       "      <td>Arbre</td>\n",
       "      <td>CIMETIERE</td>\n",
       "      <td>VAL-DE-MARNE</td>\n",
       "      <td>NaN</td>\n",
       "      <td>NaN</td>\n",
       "      <td>CIMETIERE DE THIAIS / AVENUE DU POURTOUR EST /...</td>\n",
       "      <td>A101000F7007</td>\n",
       "      <td>Tilleul</td>\n",
       "      <td>Tilia</td>\n",
       "      <td>cordata</td>\n",
       "      <td>NaN</td>\n",
       "      <td>130</td>\n",
       "      <td>10</td>\n",
       "      <td>NaN</td>\n",
       "      <td>0.0</td>\n",
       "      <td>48.767664</td>\n",
       "      <td>2.375115</td>\n",
       "    </tr>\n",
       "    <tr>\n",
       "      <th>198765</th>\n",
       "      <td>2022984</td>\n",
       "      <td>Arbre</td>\n",
       "      <td>CIMETIERE</td>\n",
       "      <td>SEINE-SAINT-DENIS</td>\n",
       "      <td>NaN</td>\n",
       "      <td>NaN</td>\n",
       "      <td>CIMETIERE DE SAINT-OUEN NOUV / DIV 31</td>\n",
       "      <td>D00000031050</td>\n",
       "      <td>Abricotier</td>\n",
       "      <td>Prunus</td>\n",
       "      <td>armeniaca</td>\n",
       "      <td>NaN</td>\n",
       "      <td>20</td>\n",
       "      <td>5</td>\n",
       "      <td>NaN</td>\n",
       "      <td>0.0</td>\n",
       "      <td>48.910619</td>\n",
       "      <td>2.349940</td>\n",
       "    </tr>\n",
       "    <tr>\n",
       "      <th>198767</th>\n",
       "      <td>2023008</td>\n",
       "      <td>Arbre</td>\n",
       "      <td>CIMETIERE</td>\n",
       "      <td>SEINE-SAINT-DENIS</td>\n",
       "      <td>NaN</td>\n",
       "      <td>NaN</td>\n",
       "      <td>CIMETIERE DE SAINT-OUEN NOUV / DIV 31</td>\n",
       "      <td>D00000031051</td>\n",
       "      <td>Prunier à fruits</td>\n",
       "      <td>Prunus</td>\n",
       "      <td>domestica</td>\n",
       "      <td>Reine Claude'</td>\n",
       "      <td>20</td>\n",
       "      <td>3</td>\n",
       "      <td>NaN</td>\n",
       "      <td>0.0</td>\n",
       "      <td>48.910663</td>\n",
       "      <td>2.349954</td>\n",
       "    </tr>\n",
       "    <tr>\n",
       "      <th>198768</th>\n",
       "      <td>2023009</td>\n",
       "      <td>Arbre</td>\n",
       "      <td>CIMETIERE</td>\n",
       "      <td>SEINE-SAINT-DENIS</td>\n",
       "      <td>NaN</td>\n",
       "      <td>NaN</td>\n",
       "      <td>CIMETIERE DE SAINT-OUEN NOUV / DIV 31</td>\n",
       "      <td>D00000031049</td>\n",
       "      <td>Parrotie de Perse - Arbre de fer</td>\n",
       "      <td>Parrotia</td>\n",
       "      <td>persica</td>\n",
       "      <td>NaN</td>\n",
       "      <td>20</td>\n",
       "      <td>3</td>\n",
       "      <td>NaN</td>\n",
       "      <td>0.0</td>\n",
       "      <td>48.910572</td>\n",
       "      <td>2.349924</td>\n",
       "    </tr>\n",
       "  </tbody>\n",
       "</table>\n",
       "<p>24448 rows × 18 columns</p>\n",
       "</div>"
      ],
      "text/plain": [
       "             id type_emplacement domanialite     arrondissement  \\\n",
       "34598    139997            Arbre   CIMETIERE       VAL-DE-MARNE   \n",
       "34599    139998            Arbre   CIMETIERE       VAL-DE-MARNE   \n",
       "34600    140000            Arbre   CIMETIERE  SEINE-SAINT-DENIS   \n",
       "34602    140035            Arbre   CIMETIERE       VAL-DE-MARNE   \n",
       "34603    140036            Arbre   CIMETIERE       VAL-DE-MARNE   \n",
       "...         ...              ...         ...                ...   \n",
       "198691  2022764            Arbre   CIMETIERE       VAL-DE-MARNE   \n",
       "198692  2022765            Arbre   CIMETIERE       VAL-DE-MARNE   \n",
       "198765  2022984            Arbre   CIMETIERE  SEINE-SAINT-DENIS   \n",
       "198767  2023008            Arbre   CIMETIERE  SEINE-SAINT-DENIS   \n",
       "198768  2023009            Arbre   CIMETIERE  SEINE-SAINT-DENIS   \n",
       "\n",
       "       complement_addresse  numero  \\\n",
       "34598                  NaN     NaN   \n",
       "34599                  NaN     NaN   \n",
       "34600                  NaN     NaN   \n",
       "34602                  NaN     NaN   \n",
       "34603                  NaN     NaN   \n",
       "...                    ...     ...   \n",
       "198691                 NaN     NaN   \n",
       "198692                 NaN     NaN   \n",
       "198765                 NaN     NaN   \n",
       "198767                 NaN     NaN   \n",
       "198768                 NaN     NaN   \n",
       "\n",
       "                                                     lieu id_emplacement  \\\n",
       "34598                           CIMETIERE D'IVRY / DIV 40   D00000040021   \n",
       "34599                           CIMETIERE D'IVRY / DIV 40   D00000040023   \n",
       "34600   CIMETIERE DE PANTIN / AVENUE DES PLATANES D'OR...   A08200009009   \n",
       "34602          CIMETIERE D'IVRY / AVENUE DU NORD / DIV 46   A09800046001   \n",
       "34603          CIMETIERE D'IVRY / AVENUE DU NORD / DIV 19   A09800019002   \n",
       "...                                                   ...            ...   \n",
       "198691  CIMETIERE DE THIAIS / AVENUE DU POURTOUR EST /...   A101000F7006   \n",
       "198692  CIMETIERE DE THIAIS / AVENUE DU POURTOUR EST /...   A101000F7007   \n",
       "198765              CIMETIERE DE SAINT-OUEN NOUV / DIV 31   D00000031050   \n",
       "198767              CIMETIERE DE SAINT-OUEN NOUV / DIV 31   D00000031051   \n",
       "198768              CIMETIERE DE SAINT-OUEN NOUV / DIV 31   D00000031049   \n",
       "\n",
       "                        libelle_francais     genre          espece  \\\n",
       "34598                             Erable      Acer       campestre   \n",
       "34599                             Erable      Acer  monspessulanum   \n",
       "34600                            Platane  Platanus     x hispanica   \n",
       "34602                            Platane  Platanus     x hispanica   \n",
       "34603                         Marronnier  Aesculus   hippocastanum   \n",
       "...                                  ...       ...             ...   \n",
       "198691                           Tilleul     Tilia         cordata   \n",
       "198692                           Tilleul     Tilia         cordata   \n",
       "198765                        Abricotier    Prunus       armeniaca   \n",
       "198767                  Prunier à fruits    Prunus       domestica   \n",
       "198768  Parrotie de Perse - Arbre de fer  Parrotia         persica   \n",
       "\n",
       "              variete  circonference_cm  hauteur_m stade_developpement  \\\n",
       "34598             NaN                75          5                  JA   \n",
       "34599             NaN                90          7                  JA   \n",
       "34600             NaN                25          5                   J   \n",
       "34602             NaN               308         28                   A   \n",
       "34603      Baumannii'                65          8                  JA   \n",
       "...               ...               ...        ...                 ...   \n",
       "198691            NaN               130         10                 NaN   \n",
       "198692            NaN               130         10                 NaN   \n",
       "198765            NaN                20          5                 NaN   \n",
       "198767  Reine Claude'                20          3                 NaN   \n",
       "198768            NaN                20          3                 NaN   \n",
       "\n",
       "        remarquable  geo_point_2d_a  geo_point_2d_b  \n",
       "34598           0.0       48.814509        2.368360  \n",
       "34599           0.0       48.814360        2.367689  \n",
       "34600           0.0       48.906793        2.401695  \n",
       "34602           0.0       48.815150        2.368099  \n",
       "34603           0.0       48.811981        2.367481  \n",
       "...             ...             ...             ...  \n",
       "198691          0.0       48.767655        2.375209  \n",
       "198692          0.0       48.767664        2.375115  \n",
       "198765          0.0       48.910619        2.349940  \n",
       "198767          0.0       48.910663        2.349954  \n",
       "198768          0.0       48.910572        2.349924  \n",
       "\n",
       "[24448 rows x 18 columns]"
      ]
     },
     "metadata": {},
     "output_type": "display_data"
    }
   ],
   "source": [
    "#filter to keep only the trees located in the departments\n",
    "display(dataBrute.loc[dataBrute[\"arrondissement\"].isin([\"SEINE-SAINT-DENIS\",\"VAL-DE-MARNE\",\"HAUTS-DE-SEINE\"])])"
   ]
  },
  {
   "cell_type": "markdown",
   "id": "6b5bfa7f",
   "metadata": {},
   "source": [
    "Tous les arbres concernés semble être situés dans des cimetières. Vérifions :"
   ]
  },
  {
   "cell_type": "code",
   "execution_count": 18,
   "id": "b49111f0",
   "metadata": {
    "scrolled": true
   },
   "outputs": [
    {
     "data": {
      "text/plain": [
       "CIMETIERE    24419\n",
       "DJS             29\n",
       "Name: domanialite, dtype: int64"
      ]
     },
     "execution_count": 18,
     "metadata": {},
     "output_type": "execute_result"
    }
   ],
   "source": [
    "# same filter, then we look at the \"domanialite\" values\n",
    "dataBrute.loc[dataBrute[\"arrondissement\"].isin([\"SEINE-SAINT-DENIS\",\"VAL-DE-MARNE\",\"HAUTS-DE-SEINE\"])][\"domanialite\"].value_counts()"
   ]
  },
  {
   "cell_type": "markdown",
   "id": "a0cd6967",
   "metadata": {},
   "source": [
    "C'est majoritairement le cas. Après vérification, Paris possède bien des cimetières extramuros, et quelques installations sportives."
   ]
  },
  {
   "cell_type": "markdown",
   "id": "377255a1",
   "metadata": {},
   "source": [
    "### Colonne `complement_addresse`"
   ]
  },
  {
   "cell_type": "code",
   "execution_count": 19,
   "id": "748f8f35",
   "metadata": {
    "scrolled": false
   },
   "outputs": [
    {
     "data": {
      "text/plain": [
       "SN°           557\n",
       "1             552\n",
       "2             547\n",
       "3             498\n",
       "4             464\n",
       "             ... \n",
       "F 10-12         1\n",
       "F 99            1\n",
       "93 Flandre      1\n",
       "F 97            1\n",
       "40face          1\n",
       "Name: complement_addresse, Length: 3795, dtype: int64"
      ]
     },
     "execution_count": 19,
     "metadata": {},
     "output_type": "execute_result"
    }
   ],
   "source": [
    "dataBrute[\"complement_addresse\"].value_counts()"
   ]
  },
  {
   "cell_type": "markdown",
   "id": "ff9208cb",
   "metadata": {},
   "source": [
    "Les valeurs de cette colonne n'ont pas vraiment de format fixe. Ce qui sera difficilement exploitable. De plus, si l'on souhaite la localisation précise de chaque individus, nous avons à disposition les colonnes latitude et longitude.\n",
    "**Elle sera supprimée lors du nettoyage**."
   ]
  },
  {
   "cell_type": "markdown",
   "id": "9fbc000b",
   "metadata": {},
   "source": [
    "### Colonne `numero`\n",
    "\n",
    "Comme vu précédemment, cette colonne est 100% vide.\n",
    "**Elle sera supprimée lors du nettoyage**."
   ]
  },
  {
   "cell_type": "markdown",
   "id": "acf80a8d",
   "metadata": {},
   "source": [
    "### Colonne `lieu`\n",
    "\n",
    "Nous avons vu que cette colonne comporte 6921 valeurs uniques. Il ne serait pas opportun de visualiser sa distribution avec un graphique.\n",
    "\n",
    "On peut néanmoins afficher les 10 plus fréquentes :"
   ]
  },
  {
   "cell_type": "code",
   "execution_count": 20,
   "id": "015a0994",
   "metadata": {
    "scrolled": false
   },
   "outputs": [
    {
     "data": {
      "image/png": "[encoded data removed]",
      "text/plain": [
       "<Figure size 640x480 with 1 Axes>"
      ]
     },
     "metadata": {},
     "output_type": "display_data"
    }
   ],
   "source": [
    "vizQuali(\"lieu\",k=\"barh\",NbMod=10)"
   ]
  },
  {
   "cell_type": "markdown",
   "id": "6138030f",
   "metadata": {},
   "source": [
    "Les valeurs de `lieu` semble indiquer, pour certaines d'entre elle :\n",
    "- d'abord un lieu général\n",
    "- puis un lieu plus précis (par exemple une rue), après un caractère `/`\n",
    "\n",
    "\n",
    "Regardons de plus près avec la modalité `CIMETIERE ST VINCENT / DIV 5` pour voir s'il en existe d'autre commençant par `CIMETIERE ST VINCENT...`\n"
   ]
  },
  {
   "cell_type": "code",
   "execution_count": 21,
   "id": "26977fc1",
   "metadata": {
    "scrolled": true
   },
   "outputs": [
    {
     "data": {
      "text/plain": [
       "Index(['CIMETIERE ST VINCENT / AVENUE DE LA FONTAINE DU BUT / DIV 6',\n",
       "       'CIMETIERE ST VINCENT / AVENUE PRINCIPALE / DIV 5',\n",
       "       'CIMETIERE ST VINCENT / AVENUE LATERALE N1 / DIV 11',\n",
       "       'CIMETIERE ST VINCENT / AVENUE PRINCIPALE / DIV 11',\n",
       "       'CIMETIERE ST VINCENT / AVENUE SAINT VINCENT / DIV 13',\n",
       "       'CIMETIERE ST VINCENT / AVENUE LATERALE N2 / DIV 12',\n",
       "       'CIMETIERE ST VINCENT / AVENUE SAINT VINCENT / DIV 12',\n",
       "       'CIMETIERE ST VINCENT / AVENUE TRANSVERSALE / DIV 9',\n",
       "       'CIMETIERE ST VINCENT / AVENUE DE LA FONTAINE DU BUT / DIV 5',\n",
       "       'CIMETIERE ST VINCENT / AVENUE TRANSVERSALE / DIV 13',\n",
       "       'CIMETIERE ST VINCENT / AVENUE TRANSVERSALE / DIV 12',\n",
       "       'CIMETIERE ST VINCENT / AVENUE TRANSVERSALE / DIV 10',\n",
       "       'CIMETIERE ST VINCENT / AVENUE LATERALE N2 / DIV 9',\n",
       "       'CIMETIERE ST VINCENT / AVENUE LATERALE N1 / DIV 8',\n",
       "       'CIMETIERE ST VINCENT / AVENUE PRINCIPALE / DIV 8',\n",
       "       'CIMETIERE ST VINCENT / AVENUE LATERALE N2 / DIV 13',\n",
       "       'CIMETIERE ST VINCENT / AVENUE LATERALE N1 / DIV 12',\n",
       "       'CIMETIERE ST VINCENT / AVENUE TRANSVERSALE / DIV 11',\n",
       "       'CIMETIERE ST VINCENT / AVENUE DE LA FONTAINE DU BUT / DIV 7',\n",
       "       'CIMETIERE ST VINCENT / AVENUE LATERALE N1 / DIV 9',\n",
       "       'CIMETIERE ST VINCENT / AVENUE TRANSVERSALE / DIV 5',\n",
       "       'CIMETIERE ST VINCENT / AVENUE CAULAINCOURT / DIV 0',\n",
       "       'CIMETIERE ST VINCENT / AVENUE LATERALE N2 / DIV 10',\n",
       "       'CIMETIERE ST VINCENT / AVENUE PRINCIPALE / DIV 7',\n",
       "       'CIMETIERE ST VINCENT / AVENUE TRANSVERSALE / DIV 8',\n",
       "       'CIMETIERE ST VINCENT / AVENUE TRANSVERSALE / DIV 7',\n",
       "       'CIMETIERE ST VINCENT / AVENUE LATERALE N1 / DIV 3',\n",
       "       'CIMETIERE ST VINCENT / DIV 2', 'CIMETIERE ST VINCENT / DIV 14',\n",
       "       'CIMETIERE ST VINCENT / DIV 13', 'CIMETIERE ST VINCENT / DIV 5'],\n",
       "      dtype='object')"
      ]
     },
     "execution_count": 21,
     "metadata": {},
     "output_type": "execute_result"
    }
   ],
   "source": [
    "modalitesLieu=dataBrute[\"lieu\"].value_counts().index\n",
    "\n",
    "modalitesLieu[modalitesLieu.str.startswith(\"CIMETIERE ST VINCENT\")]"
   ]
  },
  {
   "cell_type": "markdown",
   "id": "cea7fbd9",
   "metadata": {},
   "source": [
    "On pourrait séparer cette colonne en deux pour avoir les deux informations à dispositon. la première partie est notamment particulièrement intéressante, car il permet de regrouper les arbres par secteur, un peu comme avec la colonne arrondissment."
   ]
  },
  {
   "cell_type": "markdown",
   "id": "95a0da7f",
   "metadata": {},
   "source": [
    "### Colonne `id_emplacement`\n",
    "\n",
    "Nous avons vu que cette colonne contient différents formats. Pour se rendre compte de l'ampleur du problème, on peut regarder la taille des valeurs :"
   ]
  },
  {
   "cell_type": "code",
   "execution_count": 22,
   "id": "e43e57c3",
   "metadata": {
    "scrolled": true
   },
   "outputs": [
    {
     "data": {
      "text/plain": [
       "6     92166\n",
       "12    31928\n",
       "7     27354\n",
       "8     18300\n",
       "2     10920\n",
       "5      7187\n",
       "3      5241\n",
       "9      3802\n",
       "1      2894\n",
       "4       316\n",
       "10       21\n",
       "15        8\n",
       "Name: id_emplacement, dtype: int64"
      ]
     },
     "execution_count": 22,
     "metadata": {},
     "output_type": "execute_result"
    }
   ],
   "source": [
    "#look at the values' size\n",
    "dataBrute[\"id_emplacement\"].str.len().value_counts()\n"
   ]
  },
  {
   "cell_type": "markdown",
   "id": "0a7bf0bd",
   "metadata": {},
   "source": [
    "Les valeurs de `id_emplacement` ont des tailles vraiment différentes d'un individus à l'autre. Le formatage n'est donc pas uniforme ou exploitable. **Elle sera supprimée lors du nettoyage**."
   ]
  },
  {
   "cell_type": "markdown",
   "id": "c240ec5f",
   "metadata": {},
   "source": [
    "### Colonnes `libelle_francais`, `genre`, `espece` et `variete`\n",
    "\n",
    "Ces colonnes ont toute pour but de caractériser un arbre selon son espèce au sens large.\n",
    "\n",
    "Nous avons vu qu'elles avaient entre 100 et 600 modalités. \n",
    "\n",
    "**Nous avions remarqué que les valeurs manquantes de ces colonnes n'étaient pas forcément sur les mêmes lignes. Nous pourrons nous en servir pour le nettoyage.**\n",
    "\n",
    "Pour éviter des représentations illisibles, nous allons regarder pour l'instant ces colonnes sous forme de tableaux."
   ]
  },
  {
   "cell_type": "code",
   "execution_count": 23,
   "id": "01ba3fcf",
   "metadata": {},
   "outputs": [],
   "source": [
    "# listColEspece=[\"libelle_francais\", \"genre\", \"espece\", \"variete\"]\n",
    "# plt.figure(figsize=(20,20))\n",
    "# for X in listColEspece :\n",
    "#     plt.subplot(4,1,listColEspece.index(X)+1)\n",
    "#     plt.pie(x=dataBrute[X].value_counts(normalize=True),labels=dataBrute[X].value_counts(normalize=True).index,autopct=\"%.0f%%\")\n",
    "#     plt.title(X,fontweight=\"bold\")\n",
    "# plt.show()"
   ]
  },
  {
   "cell_type": "code",
   "execution_count": 28,
   "id": "aac36dd2",
   "metadata": {
    "scrolled": false
   },
   "outputs": [
    {
     "data": {
      "text/html": [
       "<div>\n",
       "<style scoped>\n",
       "    .dataframe tbody tr th:only-of-type {\n",
       "        vertical-align: middle;\n",
       "    }\n",
       "\n",
       "    .dataframe tbody tr th {\n",
       "        vertical-align: top;\n",
       "    }\n",
       "\n",
       "    .dataframe thead th {\n",
       "        text-align: right;\n",
       "    }\n",
       "</style>\n",
       "<table border=\"1\" class=\"dataframe\">\n",
       "  <thead>\n",
       "    <tr style=\"text-align: right;\">\n",
       "      <th></th>\n",
       "      <th>libelle_francais</th>\n",
       "    </tr>\n",
       "  </thead>\n",
       "  <tbody>\n",
       "    <tr>\n",
       "      <th>---top---</th>\n",
       "      <td>---</td>\n",
       "    </tr>\n",
       "    <tr>\n",
       "      <th>Platane</th>\n",
       "      <td>0.213995</td>\n",
       "    </tr>\n",
       "    <tr>\n",
       "      <th>Marronnier</th>\n",
       "      <td>0.126898</td>\n",
       "    </tr>\n",
       "    <tr>\n",
       "      <th>Tilleul</th>\n",
       "      <td>0.107254</td>\n",
       "    </tr>\n",
       "    <tr>\n",
       "      <th>Erable</th>\n",
       "      <td>0.092575</td>\n",
       "    </tr>\n",
       "    <tr>\n",
       "      <th>Sophora</th>\n",
       "      <td>0.059389</td>\n",
       "    </tr>\n",
       "    <tr>\n",
       "      <th>Frêne</th>\n",
       "      <td>0.026032</td>\n",
       "    </tr>\n",
       "    <tr>\n",
       "      <th>Pin</th>\n",
       "      <td>0.024386</td>\n",
       "    </tr>\n",
       "    <tr>\n",
       "      <th>Micocoulier</th>\n",
       "      <td>0.021149</td>\n",
       "    </tr>\n",
       "    <tr>\n",
       "      <th>Chêne</th>\n",
       "      <td>0.019462</td>\n",
       "    </tr>\n",
       "    <tr>\n",
       "      <th>Cerisier à fleurs</th>\n",
       "      <td>0.018964</td>\n",
       "    </tr>\n",
       "    <tr>\n",
       "      <th>---bottom---</th>\n",
       "      <td>---</td>\n",
       "    </tr>\n",
       "    <tr>\n",
       "      <th>Caragana</th>\n",
       "      <td>0.000005</td>\n",
       "    </tr>\n",
       "    <tr>\n",
       "      <th>Amla</th>\n",
       "      <td>0.000005</td>\n",
       "    </tr>\n",
       "    <tr>\n",
       "      <th>Seringas</th>\n",
       "      <td>0.000005</td>\n",
       "    </tr>\n",
       "    <tr>\n",
       "      <th>Euscaphis</th>\n",
       "      <td>0.000005</td>\n",
       "    </tr>\n",
       "    <tr>\n",
       "      <th>Andromède</th>\n",
       "      <td>0.000005</td>\n",
       "    </tr>\n",
       "    <tr>\n",
       "      <th>Cordyline</th>\n",
       "      <td>0.000005</td>\n",
       "    </tr>\n",
       "    <tr>\n",
       "      <th>Camphrier</th>\n",
       "      <td>0.000005</td>\n",
       "    </tr>\n",
       "    <tr>\n",
       "      <th>Jujubier</th>\n",
       "      <td>0.000005</td>\n",
       "    </tr>\n",
       "    <tr>\n",
       "      <th>Maackie</th>\n",
       "      <td>0.000005</td>\n",
       "    </tr>\n",
       "    <tr>\n",
       "      <th>Garrya</th>\n",
       "      <td>0.000005</td>\n",
       "    </tr>\n",
       "  </tbody>\n",
       "</table>\n",
       "</div>"
      ],
      "text/plain": [
       "                  libelle_francais\n",
       "---top---                      ---\n",
       "Platane                   0.213995\n",
       "Marronnier                0.126898\n",
       "Tilleul                   0.107254\n",
       "Erable                    0.092575\n",
       "Sophora                   0.059389\n",
       "Frêne                     0.026032\n",
       "Pin                       0.024386\n",
       "Micocoulier               0.021149\n",
       "Chêne                     0.019462\n",
       "Cerisier à fleurs         0.018964\n",
       "---bottom---                   ---\n",
       "Caragana                  0.000005\n",
       "Amla                      0.000005\n",
       "Seringas                  0.000005\n",
       "Euscaphis                 0.000005\n",
       "Andromède                 0.000005\n",
       "Cordyline                 0.000005\n",
       "Camphrier                 0.000005\n",
       "Jujubier                  0.000005\n",
       "Maackie                   0.000005\n",
       "Garrya                    0.000005"
      ]
     },
     "metadata": {},
     "output_type": "display_data"
    },
    {
     "data": {
      "text/html": [
       "<div>\n",
       "<style scoped>\n",
       "    .dataframe tbody tr th:only-of-type {\n",
       "        vertical-align: middle;\n",
       "    }\n",
       "\n",
       "    .dataframe tbody tr th {\n",
       "        vertical-align: top;\n",
       "    }\n",
       "\n",
       "    .dataframe thead th {\n",
       "        text-align: right;\n",
       "    }\n",
       "</style>\n",
       "<table border=\"1\" class=\"dataframe\">\n",
       "  <thead>\n",
       "    <tr style=\"text-align: right;\">\n",
       "      <th></th>\n",
       "      <th>genre</th>\n",
       "    </tr>\n",
       "  </thead>\n",
       "  <tbody>\n",
       "    <tr>\n",
       "      <th>---top---</th>\n",
       "      <td>---</td>\n",
       "    </tr>\n",
       "    <tr>\n",
       "      <th>Platanus</th>\n",
       "      <td>0.212826</td>\n",
       "    </tr>\n",
       "    <tr>\n",
       "      <th>Aesculus</th>\n",
       "      <td>0.126628</td>\n",
       "    </tr>\n",
       "    <tr>\n",
       "      <th>Tilia</th>\n",
       "      <td>0.107685</td>\n",
       "    </tr>\n",
       "    <tr>\n",
       "      <th>Acer</th>\n",
       "      <td>0.092299</td>\n",
       "    </tr>\n",
       "    <tr>\n",
       "      <th>Sophora</th>\n",
       "      <td>0.059114</td>\n",
       "    </tr>\n",
       "    <tr>\n",
       "      <th>Prunus</th>\n",
       "      <td>0.035244</td>\n",
       "    </tr>\n",
       "    <tr>\n",
       "      <th>Fraxinus</th>\n",
       "      <td>0.030052</td>\n",
       "    </tr>\n",
       "    <tr>\n",
       "      <th>Pinus</th>\n",
       "      <td>0.02429</td>\n",
       "    </tr>\n",
       "    <tr>\n",
       "      <th>Celtis</th>\n",
       "      <td>0.021367</td>\n",
       "    </tr>\n",
       "    <tr>\n",
       "      <th>Pyrus</th>\n",
       "      <td>0.019628</td>\n",
       "    </tr>\n",
       "    <tr>\n",
       "      <th>---bottom---</th>\n",
       "      <td>---</td>\n",
       "    </tr>\n",
       "    <tr>\n",
       "      <th>Heptacodium</th>\n",
       "      <td>0.000005</td>\n",
       "    </tr>\n",
       "    <tr>\n",
       "      <th>Philadelphus</th>\n",
       "      <td>0.000005</td>\n",
       "    </tr>\n",
       "    <tr>\n",
       "      <th>Maackia</th>\n",
       "      <td>0.000005</td>\n",
       "    </tr>\n",
       "    <tr>\n",
       "      <th>Ziziphus</th>\n",
       "      <td>0.000005</td>\n",
       "    </tr>\n",
       "    <tr>\n",
       "      <th>Cinnamomum</th>\n",
       "      <td>0.000005</td>\n",
       "    </tr>\n",
       "    <tr>\n",
       "      <th>Sycopsis</th>\n",
       "      <td>0.000005</td>\n",
       "    </tr>\n",
       "    <tr>\n",
       "      <th>Enkianthus</th>\n",
       "      <td>0.000005</td>\n",
       "    </tr>\n",
       "    <tr>\n",
       "      <th>Euscaphis</th>\n",
       "      <td>0.000005</td>\n",
       "    </tr>\n",
       "    <tr>\n",
       "      <th>Phyllanthus</th>\n",
       "      <td>0.000005</td>\n",
       "    </tr>\n",
       "    <tr>\n",
       "      <th>Washingtonia</th>\n",
       "      <td>0.000005</td>\n",
       "    </tr>\n",
       "  </tbody>\n",
       "</table>\n",
       "</div>"
      ],
      "text/plain": [
       "                 genre\n",
       "---top---          ---\n",
       "Platanus      0.212826\n",
       "Aesculus      0.126628\n",
       "Tilia         0.107685\n",
       "Acer          0.092299\n",
       "Sophora       0.059114\n",
       "Prunus        0.035244\n",
       "Fraxinus      0.030052\n",
       "Pinus          0.02429\n",
       "Celtis        0.021367\n",
       "Pyrus         0.019628\n",
       "---bottom---       ---\n",
       "Heptacodium   0.000005\n",
       "Philadelphus  0.000005\n",
       "Maackia       0.000005\n",
       "Ziziphus      0.000005\n",
       "Cinnamomum    0.000005\n",
       "Sycopsis      0.000005\n",
       "Enkianthus    0.000005\n",
       "Euscaphis     0.000005\n",
       "Phyllanthus   0.000005\n",
       "Washingtonia  0.000005"
      ]
     },
     "metadata": {},
     "output_type": "display_data"
    },
    {
     "data": {
      "text/html": [
       "<div>\n",
       "<style scoped>\n",
       "    .dataframe tbody tr th:only-of-type {\n",
       "        vertical-align: middle;\n",
       "    }\n",
       "\n",
       "    .dataframe tbody tr th {\n",
       "        vertical-align: top;\n",
       "    }\n",
       "\n",
       "    .dataframe thead th {\n",
       "        text-align: right;\n",
       "    }\n",
       "</style>\n",
       "<table border=\"1\" class=\"dataframe\">\n",
       "  <thead>\n",
       "    <tr style=\"text-align: right;\">\n",
       "      <th></th>\n",
       "      <th>espece</th>\n",
       "    </tr>\n",
       "  </thead>\n",
       "  <tbody>\n",
       "    <tr>\n",
       "      <th>---top---</th>\n",
       "      <td>---</td>\n",
       "    </tr>\n",
       "    <tr>\n",
       "      <th>x hispanica</th>\n",
       "      <td>0.183527</td>\n",
       "    </tr>\n",
       "    <tr>\n",
       "      <th>hippocastanum</th>\n",
       "      <td>0.101011</td>\n",
       "    </tr>\n",
       "    <tr>\n",
       "      <th>japonica</th>\n",
       "      <td>0.059591</td>\n",
       "    </tr>\n",
       "    <tr>\n",
       "      <th>n. sp.</th>\n",
       "      <td>0.045684</td>\n",
       "    </tr>\n",
       "    <tr>\n",
       "      <th>tomentosa</th>\n",
       "      <td>0.045175</td>\n",
       "    </tr>\n",
       "    <tr>\n",
       "      <th>pseudoplatanus</th>\n",
       "      <td>0.037457</td>\n",
       "    </tr>\n",
       "    <tr>\n",
       "      <th>platanoides</th>\n",
       "      <td>0.031686</td>\n",
       "    </tr>\n",
       "    <tr>\n",
       "      <th>nigra</th>\n",
       "      <td>0.024936</td>\n",
       "    </tr>\n",
       "    <tr>\n",
       "      <th>x europaea</th>\n",
       "      <td>0.023727</td>\n",
       "    </tr>\n",
       "    <tr>\n",
       "      <th>x carnea</th>\n",
       "      <td>0.022265</td>\n",
       "    </tr>\n",
       "    <tr>\n",
       "      <th>---bottom---</th>\n",
       "      <td>---</td>\n",
       "    </tr>\n",
       "    <tr>\n",
       "      <th>x chinensis</th>\n",
       "      <td>0.000005</td>\n",
       "    </tr>\n",
       "    <tr>\n",
       "      <th>minor var. vulgaris</th>\n",
       "      <td>0.000005</td>\n",
       "    </tr>\n",
       "    <tr>\n",
       "      <th>x macrantha</th>\n",
       "      <td>0.000005</td>\n",
       "    </tr>\n",
       "    <tr>\n",
       "      <th>acerifolius</th>\n",
       "      <td>0.000005</td>\n",
       "    </tr>\n",
       "    <tr>\n",
       "      <th>horizontalis</th>\n",
       "      <td>0.000005</td>\n",
       "    </tr>\n",
       "    <tr>\n",
       "      <th>polycarpa</th>\n",
       "      <td>0.000005</td>\n",
       "    </tr>\n",
       "    <tr>\n",
       "      <th>x gondouinii</th>\n",
       "      <td>0.000005</td>\n",
       "    </tr>\n",
       "    <tr>\n",
       "      <th>lusitanica subsp.azorica</th>\n",
       "      <td>0.000005</td>\n",
       "    </tr>\n",
       "    <tr>\n",
       "      <th>oliveri</th>\n",
       "      <td>0.000005</td>\n",
       "    </tr>\n",
       "    <tr>\n",
       "      <th>delavayi subsp. potaninii</th>\n",
       "      <td>0.000005</td>\n",
       "    </tr>\n",
       "  </tbody>\n",
       "</table>\n",
       "</div>"
      ],
      "text/plain": [
       "                             espece\n",
       "---top---                       ---\n",
       "x hispanica                0.183527\n",
       "hippocastanum              0.101011\n",
       "japonica                   0.059591\n",
       "n. sp.                     0.045684\n",
       "tomentosa                  0.045175\n",
       "pseudoplatanus             0.037457\n",
       "platanoides                0.031686\n",
       "nigra                      0.024936\n",
       "x europaea                 0.023727\n",
       "x carnea                   0.022265\n",
       "---bottom---                    ---\n",
       "x chinensis                0.000005\n",
       "minor var. vulgaris        0.000005\n",
       "x macrantha                0.000005\n",
       "acerifolius                0.000005\n",
       "horizontalis               0.000005\n",
       "polycarpa                  0.000005\n",
       "x gondouinii               0.000005\n",
       "lusitanica subsp.azorica   0.000005\n",
       "oliveri                    0.000005\n",
       "delavayi subsp. potaninii  0.000005"
      ]
     },
     "metadata": {},
     "output_type": "display_data"
    },
    {
     "data": {
      "text/html": [
       "<div>\n",
       "<style scoped>\n",
       "    .dataframe tbody tr th:only-of-type {\n",
       "        vertical-align: middle;\n",
       "    }\n",
       "\n",
       "    .dataframe tbody tr th {\n",
       "        vertical-align: top;\n",
       "    }\n",
       "\n",
       "    .dataframe thead th {\n",
       "        text-align: right;\n",
       "    }\n",
       "</style>\n",
       "<table border=\"1\" class=\"dataframe\">\n",
       "  <thead>\n",
       "    <tr style=\"text-align: right;\">\n",
       "      <th></th>\n",
       "      <th>variete</th>\n",
       "    </tr>\n",
       "  </thead>\n",
       "  <tbody>\n",
       "    <tr>\n",
       "      <th>---top---</th>\n",
       "      <td>---</td>\n",
       "    </tr>\n",
       "    <tr>\n",
       "      <th>Baumannii'</th>\n",
       "      <td>0.123392</td>\n",
       "    </tr>\n",
       "    <tr>\n",
       "      <th>Briotii'</th>\n",
       "      <td>0.076869</td>\n",
       "    </tr>\n",
       "    <tr>\n",
       "      <th>Euchlora'</th>\n",
       "      <td>0.074938</td>\n",
       "    </tr>\n",
       "    <tr>\n",
       "      <th>Chanticleer'</th>\n",
       "      <td>0.07056</td>\n",
       "    </tr>\n",
       "    <tr>\n",
       "      <th>Fastigiata'</th>\n",
       "      <td>0.067515</td>\n",
       "    </tr>\n",
       "    <tr>\n",
       "      <th>Diversifolia'</th>\n",
       "      <td>0.04753</td>\n",
       "    </tr>\n",
       "    <tr>\n",
       "      <th>Pallida'</th>\n",
       "      <td>0.040623</td>\n",
       "    </tr>\n",
       "    <tr>\n",
       "      <th>Kanzan'</th>\n",
       "      <td>0.03891</td>\n",
       "    </tr>\n",
       "    <tr>\n",
       "      <th>Italica'</th>\n",
       "      <td>0.034886</td>\n",
       "    </tr>\n",
       "    <tr>\n",
       "      <th>Pissardii'</th>\n",
       "      <td>0.024526</td>\n",
       "    </tr>\n",
       "    <tr>\n",
       "      <th>---bottom---</th>\n",
       "      <td>---</td>\n",
       "    </tr>\n",
       "    <tr>\n",
       "      <th>Gold Bark'</th>\n",
       "      <td>0.000027</td>\n",
       "    </tr>\n",
       "    <tr>\n",
       "      <th>Clanbrassiliana'</th>\n",
       "      <td>0.000027</td>\n",
       "    </tr>\n",
       "    <tr>\n",
       "      <th>Matsuma'</th>\n",
       "      <td>0.000027</td>\n",
       "    </tr>\n",
       "    <tr>\n",
       "      <th>Thunberg'</th>\n",
       "      <td>0.000027</td>\n",
       "    </tr>\n",
       "    <tr>\n",
       "      <th>Theodonensis'</th>\n",
       "      <td>0.000027</td>\n",
       "    </tr>\n",
       "    <tr>\n",
       "      <th>Conspicua'</th>\n",
       "      <td>0.000027</td>\n",
       "    </tr>\n",
       "    <tr>\n",
       "      <th>Concordia'</th>\n",
       "      <td>0.000027</td>\n",
       "    </tr>\n",
       "    <tr>\n",
       "      <th>Kojou-no-mai'</th>\n",
       "      <td>0.000027</td>\n",
       "    </tr>\n",
       "    <tr>\n",
       "      <th>Nizetii'</th>\n",
       "      <td>0.000027</td>\n",
       "    </tr>\n",
       "    <tr>\n",
       "      <th>Grosse Pomme Noire'</th>\n",
       "      <td>0.000027</td>\n",
       "    </tr>\n",
       "  </tbody>\n",
       "</table>\n",
       "</div>"
      ],
      "text/plain": [
       "                      variete\n",
       "---top---                 ---\n",
       "Baumannii'           0.123392\n",
       "Briotii'             0.076869\n",
       "Euchlora'            0.074938\n",
       "Chanticleer'          0.07056\n",
       "Fastigiata'          0.067515\n",
       "Diversifolia'         0.04753\n",
       "Pallida'             0.040623\n",
       "Kanzan'               0.03891\n",
       "Italica'             0.034886\n",
       "Pissardii'           0.024526\n",
       "---bottom---              ---\n",
       "Gold Bark'           0.000027\n",
       "Clanbrassiliana'     0.000027\n",
       "Matsuma'             0.000027\n",
       "Thunberg'            0.000027\n",
       "Theodonensis'        0.000027\n",
       "Conspicua'           0.000027\n",
       "Concordia'           0.000027\n",
       "Kojou-no-mai'        0.000027\n",
       "Nizetii'             0.000027\n",
       "Grosse Pomme Noire'  0.000027"
      ]
     },
     "metadata": {},
     "output_type": "display_data"
    }
   ],
   "source": [
    "listColEspece=[\"libelle_francais\", \"genre\", \"espece\", \"variete\"]\n",
    "\n",
    "for X in listColEspece :\n",
    "    seriesX=dataBrute[X].value_counts(normalize=True)\n",
    "    tabX=pd.DataFrame(pd.concat([pd.Series({\"---top---\":\"---\"}),seriesX.head(10),pd.Series({\"---bottom---\":\"---\"}),seriesX.tail(10)]))\n",
    "    tabX=tabX.rename(columns={0:X})\n",
    "    display(tabX)\n",
    "    "
   ]
  },
  {
   "cell_type": "markdown",
   "id": "6eceace2",
   "metadata": {},
   "source": [
    "Nous remarquons pluseurs choses.\n",
    "\n",
    "Certaines valeurs ne sont vraiment que très peu représentées. Dans l'optique d'étudier d'autres données par type d'arbre de manière plus lisible (par exemple en fonction de l'age ou de la position), il pourra être intéressant **regrouper les valeurs les moins présentes** au sein d'une **catégorie `Autre` lors du nettoyage**. \n",
    "\n",
    "On remarque aussi une valeur `n. sp.` dans espece. Cela correspond à une valeur non spécifiée, et donc revient à une **valeur manquante**. **A traiter lors du nettoyage**. Après recherche il en va de même pour les autres colonnes (`non spécifié`)"
   ]
  },
  {
   "cell_type": "markdown",
   "id": "902a1f6a",
   "metadata": {},
   "source": [
    "### Colonnes `circonference_cm` et `hauteur_m`\n",
    "\n",
    "Comme vu précédemment ces colonnes ont des valeurs qui semblent aberrantes :"
   ]
  },
  {
   "cell_type": "code",
   "execution_count": null,
   "id": "a4670874",
   "metadata": {
    "scrolled": false
   },
   "outputs": [],
   "source": [
    "#filter the dataDescribe dataframe on circonference_cm and hauteur_m columns\n",
    "#and on the statistics we need to check\n",
    "dataDescribe.loc[[\"mean\",\"std\", \"min\", \"max\",\"25%\",'50%',\"75%\"],[\"circonference_cm\",\"hauteur_m\"]]"
   ]
  },
  {
   "cell_type": "markdown",
   "id": "69317ed0",
   "metadata": {},
   "source": [
    "Ces valeurs aberrantes perturbent la bonne compréhension de nos données :\n",
    "- la moyenne et donc l'écart-type y sont très sensibles. On ne peut donc pas faire confiance aux valeurs ci-dessus\n",
    "- si l'on souhaite prioriser l'entretien des arbres en fonction de leur taille (par exemple si l'on souhaite faire une campagne avec des véhicules spécifiques sur les plus hauts sujets), ces données ne nous permettent pas de la faire correctement\n"
   ]
  },
  {
   "cell_type": "markdown",
   "id": "67d78e2c",
   "metadata": {},
   "source": [
    "Pour mieux visualiser le problème, nous pouvons représenter la répartition de l'ensemble des valeurs prises par `circonference_cm` et `hauteur_m` sous la forme d'une \"**boite à moustaches**\".\n",
    "\n",
    "Expliquons de quoi il s'agit. Ce type de graphique permet de représenter la position de :\n",
    "- 25% ou **Q1** : 1er quartile, 25% des valeurs sont en dessous, 75% au dessus\n",
    "- 50% ou **Med** : médiane, 50% des valeurs sont en dessous, 50% au dessus\n",
    "- 75% ou **Q3** : 3ème quartile, 75% des valeurs sont en dessous, 25% au dessus\n",
    "\n",
    "l'intervalle entre Q1 et Q3 contient 50% des valeurs prises. La taille de cet intervalle s'appelle l'**écart interquartile IQR**. Il prend la forme d'un rectangle sur la \"boite à moustaches\".\n",
    "\n",
    "C'est ce même IQR qui peut nous permettre de définir un seuil au delà duquel les valeurs seront considérées comme aberrantes :\n",
    "- **on retire les valeurs inférieures à 1,5 x IQR**\n",
    "- **on retire les valeurs supérieures à 1,5 x IQR**\n",
    "\n",
    "Cette manière de définir les valeurs aberrantes est appelée le **Critère de Tukey**.\n",
    "\n",
    "Graphiquement, c'est ainsi qu'on obtient les \"moustaches\" entre le rectangle et les nouveaux maximum (B sur l'image ci-dessous) et minimum (A sur l'image ci-dessous).\n",
    "\n",
    "les valeurs aberrantes (outliers sur l'image) déterminées sont représentées par des points.\n",
    "\n",
    "![](1508878760102_Boxplot.jpeg)\n",
    "\n",
    "Voyons ce que cela donne avec nos colonnes `circonference_cm` et `hauteur_m` :"
   ]
  },
  {
   "cell_type": "code",
   "execution_count": null,
   "id": "4609a878",
   "metadata": {},
   "outputs": [],
   "source": [
    "#dipslay the 2 boxplots\n",
    "\n",
    "plt.figure(figsize=(20,10))\n",
    "plt.subplot(2,1,1)\n",
    "dataBrute.boxplot(column=[\"hauteur_m\"],vert=False)\n",
    "\n",
    "plt.subplot(2,1,2)\n",
    "dataBrute.boxplot(column=[\"circonference_cm\"],vert=False)\n",
    "\n",
    "plt.show()"
   ]
  },
  {
   "cell_type": "markdown",
   "id": "a03405df",
   "metadata": {},
   "source": [
    "Ces valeurs aberrantes perturbent la bonne compréhension de nos données :\n",
    "- la moyenne et donc l'écart-type y sont très sensibles. On ne peut donc pas faire confiance aux valeurs ci-dessus\n",
    "- si l'on souhaite prioriser l'entretien des arbres en fonction de leur taille (par exemple si l'on souhaite faire une campagne avec des véhicules spécifiques sur les plus hauts sujets), ces données ne nous permettent pas de la faire correctement\n",
    "\n",
    "Il faudra donc **traiter ces valeurs aberrantes lors du nettoyage des données**."
   ]
  },
  {
   "cell_type": "markdown",
   "id": "0e82c188",
   "metadata": {},
   "source": [
    "Les valeurs aberrantes hautes perturbent l'affichage des boites à moustaches. Il peut être intéressant de \"zoomer\" un peu pour mieux se rendre compte de la répartition des valeurs proche de 0 :"
   ]
  },
  {
   "cell_type": "code",
   "execution_count": null,
   "id": "b13750e4",
   "metadata": {},
   "outputs": [],
   "source": [
    "plt.figure(figsize=(20,10))\n",
    "plt.subplot(2,1,1)\n",
    "dataBrute.boxplot(column=[\"hauteur_m\"],vert=False)\n",
    "plt.xlim(-10,100)\n",
    "\n",
    "plt.subplot(2,1,2)\n",
    "dataBrute.boxplot(column=[\"circonference_cm\"],vert=False)\n",
    "plt.xlim(-10,1000)\n",
    "\n",
    "plt.show()"
   ]
  },
  {
   "cell_type": "markdown",
   "id": "cff94287",
   "metadata": {},
   "source": [
    "La valeur 0 est la limite basse pour nos deux colonnes. On peut s'intéresser à l'ampleur du phénomène :"
   ]
  },
  {
   "cell_type": "code",
   "execution_count": null,
   "id": "42cdcbaf",
   "metadata": {
    "scrolled": true
   },
   "outputs": [],
   "source": [
    "#how many trees have zero for \"hauteur_m\" or \"circonference_cm\" ?\n",
    "dataBrute.loc[(dataBrute[\"hauteur_m\"]==0)  | (dataBrute[\"circonference_cm\"]==0),\"id\"].value_counts().sum()"
   ]
  },
  {
   "cell_type": "code",
   "execution_count": null,
   "id": "e64a19a7",
   "metadata": {},
   "outputs": [],
   "source": [
    "#how many trees have zero for \"hauteur_m\" and \"circonference_cm\" ?\n",
    "dataBrute.loc[(dataBrute[\"hauteur_m\"]==0)  & (dataBrute[\"circonference_cm\"]==0),\"id\"].value_counts().sum()"
   ]
  },
  {
   "cell_type": "code",
   "execution_count": null,
   "id": "2eeae4f6",
   "metadata": {},
   "outputs": [],
   "source": [
    "#how many trees just for \"hauteur_m\" ?\n",
    "dataBrute.loc[(dataBrute[\"hauteur_m\"]==0),\"id\"].value_counts().sum()"
   ]
  },
  {
   "cell_type": "code",
   "execution_count": null,
   "id": "9a069ecd",
   "metadata": {
    "scrolled": true
   },
   "outputs": [],
   "source": [
    "#how many trees just for \"circonference_cm\" ?\n",
    "dataBrute.loc[(dataBrute[\"circonference_cm\"]==0),\"id\"].value_counts().sum()"
   ]
  },
  {
   "cell_type": "markdown",
   "id": "0535c6db",
   "metadata": {},
   "source": [
    "Dans les deux cas zéro est une valeur impossible. Il s'agit donc d'une valeur aberrante.\n",
    "Cela peut s'expliquer : pour rappel le nombre de valeurs manquantes pour ces deux colonnes représentait 0%.\n",
    "\n",
    "**On peut donc supposer que les valeurs 0 correspondent à une abscence de donnée (par exemple un arbre non mesuré).**\n",
    "\n",
    "Mais dans ce cas un autre problème persiste : Il y a beaucoup plus d'arbres pour lesquels la hauteur est à 0. **Pourquoi prendre le temps de mesurer la circonférence d'un sujet sans la hauteur ?**\n",
    "\n",
    "Regardons cela de plus près :"
   ]
  },
  {
   "cell_type": "code",
   "execution_count": null,
   "id": "4b1568b0",
   "metadata": {},
   "outputs": [],
   "source": [
    "#how many trees  with \"hauteur_m\" = 0 and \"circonference_cm\" > 0 ?\n",
    "dataBrute.loc[(dataBrute[\"hauteur_m\"]==0)  & (dataBrute[\"circonference_cm\"]>0),\"id\"].value_counts().sum()"
   ]
  },
  {
   "cell_type": "code",
   "execution_count": null,
   "id": "e37dd338",
   "metadata": {},
   "outputs": [],
   "source": [
    "#how many trees  with \"hauteur_m\" > 0 and \"circonference_cm\" = 0 ?\n",
    "dataBrute.loc[(dataBrute[\"hauteur_m\"]>0)  & (dataBrute[\"circonference_cm\"]==0),\"id\"].value_counts().sum()"
   ]
  },
  {
   "cell_type": "markdown",
   "id": "960d282e",
   "metadata": {},
   "source": [
    "Il y a donc énormément de cas où la hauteur est à 0 tandis que la circonférence existe. Alors qu'il y a seulement 366 cas où l'on connait la hauteur sans connaître la circonférence.\n",
    "\n",
    "On peut supposer qu'il s'agit ici non pas d'une abscence de mesure, mais d'un problème d'arrondi. En effet la colonne \"hauteur_m\" ne comporte que des valeurs entières. **On peut imaginer que les arbres mesurant entre 0 et 0.5 m auront été arrondi à 0 au moment du passage en valeurs entières...**\n",
    "\n",
    "**Partant de ces observations, et dans le but de traiter les valeurs aberrantes de manière assez spécifiques, nous allons :**\n",
    "- **convertir la hauteur des arbres en cm**\n",
    "- traiter les valeurs à 0 :\n",
    "    - si la **circonférence est à 0**, la remplacer par une **valeur manquante**\n",
    "    - si la **hauteur est à 0** :\n",
    "        - si la *circonférence est à 0*, remplacer la hauteur par une **valeur manquante**\n",
    "        - si la *circonférence est supérieure à 0*, laisser la hauteur **à 0**\n",
    "- puis **dans un second temps traiter les valeurs hautes**\n",
    "\n"
   ]
  },
  {
   "cell_type": "markdown",
   "id": "165bf7b1",
   "metadata": {},
   "source": [
    "### Colonne `stade_developpement`\n"
   ]
  },
  {
   "cell_type": "code",
   "execution_count": null,
   "id": "a8101eed",
   "metadata": {
    "scrolled": false
   },
   "outputs": [],
   "source": [
    "vizQuali(X=\"stade_developpement\",k=\"pie\")"
   ]
  },
  {
   "cell_type": "markdown",
   "id": "e08aca99",
   "metadata": {},
   "source": [
    "Afin de faciliter la **lisibilité**, nous **renommerons** les catégories d'âge lors du **nettoyage**."
   ]
  },
  {
   "cell_type": "markdown",
   "id": "0089120d",
   "metadata": {},
   "source": [
    "## 2.2) Nettoyage<a class=\"anchor\" id=\"22\"></a>"
   ]
  },
  {
   "cell_type": "code",
   "execution_count": null,
   "id": "41f69920",
   "metadata": {},
   "outputs": [],
   "source": [
    "# create a dataframe for cleaning\n",
    "dataPropre=dataBrute.copy()"
   ]
  },
  {
   "cell_type": "markdown",
   "id": "5005b485",
   "metadata": {},
   "source": [
    "### Suppression `type_emplacement` et `numero`"
   ]
  },
  {
   "cell_type": "code",
   "execution_count": null,
   "id": "def20234",
   "metadata": {},
   "outputs": [],
   "source": [
    "# delete unnecessary columns \"type_emplacement\" (1 unique value), \"numero\" (not filled in at all)\n",
    "dataPropre=dataPropre.drop(columns=[\"type_emplacement\",\"numero\"])"
   ]
  },
  {
   "cell_type": "markdown",
   "id": "c5d96172",
   "metadata": {},
   "source": [
    "### Suppression `complement_addresse` et `id_emplacement`"
   ]
  },
  {
   "cell_type": "code",
   "execution_count": null,
   "id": "204c925f",
   "metadata": {},
   "outputs": [],
   "source": [
    "# delete columns \"complement_addresse\" and \"id_emplacement\" \n",
    "#(too many formatting errors)\n",
    "dataPropre=dataPropre.drop(columns=[\"complement_addresse\",\"id_emplacement\"])"
   ]
  },
  {
   "cell_type": "markdown",
   "id": "caa07c2a",
   "metadata": {},
   "source": [
    "### Imputation valeur manquante `domanialité`"
   ]
  },
  {
   "cell_type": "code",
   "execution_count": null,
   "id": "853c83fc",
   "metadata": {},
   "outputs": [],
   "source": [
    "# missing value is imputed on domanialité\n",
    "dataPropre.loc[dataPropre[\"domanialite\"].isna(),\"domanialite\"]=\"Jardin\""
   ]
  },
  {
   "cell_type": "markdown",
   "id": "96bc1127",
   "metadata": {},
   "source": [
    "### Séparation `lieu` en deux : `lieuMacro` et `lieuMicro`"
   ]
  },
  {
   "cell_type": "code",
   "execution_count": null,
   "id": "b71736db",
   "metadata": {
    "scrolled": true
   },
   "outputs": [],
   "source": [
    "#split column \"lieu\" in two\n",
    "dataPropre[\"lieuMacro\"]=dataPropre[\"lieu\"].str.split(\"/\",n=1,expand=True)[0] #on crée une colonne pour la 1ère partie\n",
    "dataPropre[\"lieuMicro\"]=dataPropre[\"lieu\"].str.split(\"/\",n=1,expand=True)[1] #idem pour la 2ème\n",
    "dataPropre.loc[dataPropre[\"lieuMicro\"].astype(str)==\"None\",\"lieuMicro\"]=np.nan #None passés en NaN\n",
    "\n",
    "dataPropre[[\"lieuMacro\",\"lieu\"]].describe()"
   ]
  },
  {
   "cell_type": "markdown",
   "id": "e25ce8f0",
   "metadata": {},
   "source": [
    "On voit que le **mode** de `lieu` ne reflétait pas la zone la plus arborée.\n",
    "On peut comparer les 2 distributions (sur les modalités les plus fréquentes) de `lieu` et `lieuMacro` :"
   ]
  },
  {
   "cell_type": "code",
   "execution_count": null,
   "id": "8176f7d4",
   "metadata": {},
   "outputs": [],
   "source": [
    "plt.figure(figsize=(15,20))\n",
    "plt.subplot(2,1,1)\n",
    "vizQuali(\"lieu\",df=dataPropre,k=\"barh\",NbMod=10)\n",
    "plt.subplot(2,1,2)\n",
    "vizQuali(\"lieuMacro\",df=dataPropre,k=\"barh\",NbMod=10)"
   ]
  },
  {
   "cell_type": "markdown",
   "id": "29f58145",
   "metadata": {},
   "source": [
    "Cette nouvelle colonne pourrait servir à organiser les tournées par secteurs géographique.\n",
    "\n",
    "Imaginons par exemple que la mairie du 13ème arrondissement souhaite planifier les interventions de ses agents. Elle pourrait répartir ces opérations par grandes zones ou rues. Les effectifs en arbres de ces zones permettraient de dimensionner précisément chaque intervention en temps et en équipes, et même de programmer la communication et les arrêtés de voirie."
   ]
  },
  {
   "cell_type": "code",
   "execution_count": null,
   "id": "bdcee9c0",
   "metadata": {
    "scrolled": true
   },
   "outputs": [],
   "source": [
    "\n",
    "dataPropre.groupby([\"arrondissement\",\"lieuMacro\"]).count().loc[\"PARIS 13E ARRDT\"].sort_values('id',ascending=False)[\"id\"].head(20)"
   ]
  },
  {
   "cell_type": "markdown",
   "id": "d354d2aa",
   "metadata": {},
   "source": [
    "### Traitement des valeurs aberrantes de `circonference_cm` et `hauteur_m` - les 0\n",
    "\n",
    "#### Hauteur en cm"
   ]
  },
  {
   "cell_type": "code",
   "execution_count": null,
   "id": "1486173d",
   "metadata": {},
   "outputs": [],
   "source": [
    "#create \"hauteur_cm\"\n",
    "dataPropre[\"hauteur_cm\"]=dataPropre[\"hauteur_m\"]*100\n",
    "\n",
    "#drop \"hauteur_m\"\n",
    "dataPropre=dataPropre.drop(columns=[\"hauteur_m\"])"
   ]
  },
  {
   "cell_type": "markdown",
   "id": "aaddbbbb",
   "metadata": {},
   "source": [
    "#### Traiter les valeurs à 0\n",
    "   - si la **circonférence est à 0**, la remplacer par une **valeur manquante**\n",
    "   - si la **hauteur est à 0** :\n",
    "       - si la *circonférence est à 0*, remplacer la hauteur par une **valeur manquante**\n",
    "       - si la *circonférence est supérieure à 0*, laisser la hauteur **à 0**"
   ]
  },
  {
   "cell_type": "code",
   "execution_count": null,
   "id": "2bda68db",
   "metadata": {},
   "outputs": [],
   "source": [
    "#for hauteur_cm = 0 AND circonference_cm = 0, set value to numpy NaN\n",
    "dataPropre.loc[(dataPropre.hauteur_cm ==0)&(dataPropre.circonference_cm==0),\"hauteur_cm\"]=np.NaN\n",
    "#for circonference_cm = 0, set value to numpy NaN\n",
    "dataPropre.loc[dataPropre.circonference_cm==0,\"circonference_cm\"]=np.NaN"
   ]
  },
  {
   "cell_type": "markdown",
   "id": "d6884b27",
   "metadata": {},
   "source": [
    "Regardons de nouveau ce que cela donne pour les boites à moustaches :"
   ]
  },
  {
   "cell_type": "code",
   "execution_count": null,
   "id": "c82f400d",
   "metadata": {
    "scrolled": false
   },
   "outputs": [],
   "source": [
    "#again, boxplots for hauteur_cm and circonference_cm\n",
    "plt.figure(figsize=(20,10))\n",
    "plt.subplot(2,1,1)\n",
    "dataPropre.boxplot(column=[\"hauteur_cm\"],vert=False)\n",
    "plt.xlim(-10,5000)\n",
    "plt.subplot(2,1,2)\n",
    "dataPropre.boxplot(column=[\"circonference_cm\"],vert=False)\n",
    "plt.xlim(-10,1000)\n",
    "plt.show()"
   ]
  },
  {
   "cell_type": "markdown",
   "id": "e52ba50a",
   "metadata": {},
   "source": [
    "### Traitement des valeurs aberrantes de `circonference_cm` et `hauteur_m` - valeurs hautes"
   ]
  },
  {
   "cell_type": "markdown",
   "id": "5f908fbc",
   "metadata": {},
   "source": [
    "#### Critère de Tukey\n",
    "Déterminons les valeurs maximales selon le critère de Tukey (i.e. celles représentées sur les boites à moustaches précédentes) : "
   ]
  },
  {
   "cell_type": "code",
   "execution_count": null,
   "id": "d3727ae9",
   "metadata": {},
   "outputs": [],
   "source": [
    "quartiles = dataPropre[[\"hauteur_cm\",\"circonference_cm\"]].quantile([0.25,0.75]) #determine Q1 and Q3\n",
    "IQR = quartiles.loc[0.75]-quartiles.loc[0.25] # IQR for both columns\n",
    "limitMaxTukey = quartiles.loc[0.75]+1.5*IQR\n",
    "\n",
    "limitMaxTukey"
   ]
  },
  {
   "cell_type": "markdown",
   "id": "b6c91a85",
   "metadata": {},
   "source": [
    "*Selon le critère de Tukey*, les valeurs aberrantes sont celles dépassant **25 mètres de hauteur** et **2 mètres 40 de circonférence.**"
   ]
  },
  {
   "cell_type": "code",
   "execution_count": null,
   "id": "9af21abe",
   "metadata": {},
   "outputs": [],
   "source": [
    "# set new max :\n",
    "hauteurMax=limitMaxTukey[\"hauteur_cm\"]\n",
    "circonferenceMax=limitMaxTukey[\"circonference_cm\"]"
   ]
  },
  {
   "cell_type": "markdown",
   "id": "787d97e6",
   "metadata": {},
   "source": [
    "#### Autre méthode ? Arbre le plus haut et arbre le plus gros de Paris.\n",
    "\n",
    "On aurait pu néanmoins s'interroger sur ces bornes hautes en les confrontant avec la réalité.\n",
    "\n",
    "Après un peu de recherche : [https://www.unjourdeplusaparis.com/paris-vert/arbres-remarquables-paris](https://www.unjourdeplusaparis.com/paris-vert/arbres-remarquables-paris) il s'avère que :\n",
    "- l'arbre le grand de Paris mesure 35 mètres\n",
    "- l'arbre le plus gros a une circonférence de 7 mètres\n",
    "\n",
    "Néanmois ces arbres sont atypiques. Nous faisons le choix de rester sur le critère de Tukey."
   ]
  },
  {
   "cell_type": "markdown",
   "id": "8757eaa9",
   "metadata": {},
   "source": [
    "#### Traiter les valeurs aberrantes\n",
    "\n",
    "Nous allons remplacer les valeurs supérieures par des valeurs manquantes :"
   ]
  },
  {
   "cell_type": "code",
   "execution_count": null,
   "id": "7673725b",
   "metadata": {},
   "outputs": [],
   "source": [
    "dataPropre.loc[dataPropre[\"hauteur_cm\"]>hauteurMax,\"hauteur_cm\"]=np.NaN #set values above hauteurMax to NaN\n",
    "dataPropre.loc[dataPropre[\"circonference_cm\"]>circonferenceMax,\"circonference_cm\"]=np.NaN #set values above circonferenceMax to NaN"
   ]
  },
  {
   "cell_type": "markdown",
   "id": "2651bccc",
   "metadata": {},
   "source": [
    "#### Autre méthode ? Imputer les valeurs aberrantes grâce à d'autres colonnes\n",
    "\n",
    "Ici nous avons fait le choix de remplacer les valeurs aberrantes par des NaN.\n",
    "Mais il aurait été possible d'utiliser d'autres informations pour imputer. \n",
    "Par exemple : \n",
    "- étudier la *relation* entre la hauteur et la circonférence. **Cette méthode aurait peut-être permis de redécouvrir des valeurs entre 0 et 99 cm pour la colonne `hauteur_cm`.**\n",
    "- considérer *le type de l'arbre (par exemple son `libelle_francais`)* et imputer la hauteur et la circonférence avec *leurs valeurs médianes* sur l'ensemble des arbres de ce type\n",
    "- considérer *le `stade_developpement` de l'arbre* et imputer la hauteur et la circonférence avec *leurs valeurs médianes* sur l'ensemble des arbres de cet âge\n",
    "- un *mix* des précédentes solutions"
   ]
  },
  {
   "cell_type": "markdown",
   "id": "a0135c71",
   "metadata": {},
   "source": [
    "### Traitement des valeurs `libelle_francais`, `genre`, `espece` et `variete`"
   ]
  },
  {
   "cell_type": "markdown",
   "id": "d39f4420",
   "metadata": {},
   "source": [
    "#### Suppression colonne `variete`\n",
    "\n",
    "Nous avons vu que cette colonne était à 82% vide. Nous décidons de ne pas la considérer."
   ]
  },
  {
   "cell_type": "code",
   "execution_count": null,
   "id": "31e8a109",
   "metadata": {},
   "outputs": [],
   "source": [
    "# delete column \"variete\" \n",
    "dataPropre=dataPropre.drop(columns=\"variete\")"
   ]
  },
  {
   "cell_type": "markdown",
   "id": "9736f28a",
   "metadata": {},
   "source": [
    "#### Transformer les valeurs `Non spécifié` en valeurs manquantes\n",
    "\n",
    "Nous avons vu que le taux de remplissage des colonnes `libelle_francais` , `genre` et `espece` était biaisé par des valeurs `non spécifié`. Remplassons les par des valeurs manquantes :"
   ]
  },
  {
   "cell_type": "code",
   "execution_count": null,
   "id": "67deab8d",
   "metadata": {},
   "outputs": [],
   "source": [
    "listColEspece=['libelle_francais', 'genre', 'espece']\n",
    "listNS=[\"n. sp.\",\"Non spécifié\"]\n",
    "\n",
    "for X in listColEspece :\n",
    "    for value in listNS :\n",
    "        dataPropre.loc[dataPropre[X]==value,X]=np.NaN"
   ]
  },
  {
   "cell_type": "markdown",
   "id": "ace9bb98",
   "metadata": {},
   "source": [
    "#### Imputation de valeurs de la colonne `libelle_francais` grâce aux colonnes `genre` et `espece`"
   ]
  },
  {
   "cell_type": "code",
   "execution_count": null,
   "id": "ce77bd0e",
   "metadata": {
    "scrolled": true
   },
   "outputs": [],
   "source": [
    "dataPropre[\"libelle_francais_GUESS\"]=dataPropre[\"libelle_francais\"] #copy the column\n",
    "\n",
    "dataLibelleNaN=dataPropre.loc[dataPropre[\"libelle_francais\"].isna(), [\"libelle_francais\",\"genre\",\"espece\"]] #\"genre\" and \"espece\" where \"libelle_francais\" values are NaN\n",
    "\n",
    "for g in dataLibelleNaN[\"genre\"].value_counts().index : #iterate on unique \"genre\" values\n",
    "    ug=dataPropre.loc[dataPropre[\"genre\"]==g,\"libelle_francais\"].value_counts().index #unique values in libelle_francais for this g\n",
    "    if len(ug)==1 : #if there is only one match\n",
    "        dataLibelleNaN.loc[dataLibelleNaN[\"genre\"]==g,\"libelle_francais\"]=ug[0] #then, where \"genre\" is g, \"libelle_francais_CORRECT\" get that match\n",
    "\n",
    "#same with \"espece\"        \n",
    "for e in dataLibelleNaN[\"espece\"].value_counts().index :\n",
    "    ue=dataPropre.loc[dataPropre[\"espece\"]==e,\"libelle_francais\"].value_counts().index \n",
    "    if len(ue)==1 :\n",
    "        dataLibelleNaN.loc[dataLibelleNaN[\"espece\"]==e,\"libelle_francais\"]=ue[0]\n",
    "\n",
    "#set the NaN values of \"libelle_francais\" with the determined values\n",
    "dataPropre.loc[dataPropre[\"libelle_francais\"].isna(), \"libelle_francais_GUESS\"]=dataLibelleNaN[\"libelle_francais\"]\n",
    "\n",
    "print(\"AVANT il y avait\",len(dataLibelleNaN),\"valeurs manquantes dans `libelle_francais`.\")\n",
    "print(\"APRES correction il y en a\",len(dataPropre.loc[dataPropre[\"libelle_francais_GUESS\"].isna(), :]),\".\")"
   ]
  },
  {
   "cell_type": "code",
   "execution_count": null,
   "id": "2e715416",
   "metadata": {
    "scrolled": false
   },
   "outputs": [],
   "source": [
    "#drop \"libelle_francais\"\n",
    "dataPropre=dataPropre.drop(columns=\"libelle_francais\")"
   ]
  },
  {
   "cell_type": "markdown",
   "id": "d6bd5e5b",
   "metadata": {},
   "source": [
    "#### Créer colonnes `main...` pour `libelle_francais` , `genre` et `espece`"
   ]
  },
  {
   "cell_type": "code",
   "execution_count": null,
   "id": "19151dca",
   "metadata": {},
   "outputs": [],
   "source": [
    "listColEspece=[\"libelle_francais_GUESS\", \"genre\", \"espece\"]\n",
    "\n",
    "for X in listColEspece :\n",
    "    main=dataPropre[X].value_counts(normalize=True).loc[dataPropre[X].value_counts(normalize=True)>=0.01]\n",
    "    dataPropre[\"main_\"+X]=dataPropre[X]\n",
    "    dataPropre.loc[~(dataPropre[X].isin(main.index)),\"main_\"+X]=\"autre\"\n",
    "    dataPropre.loc[dataPropre[X].isna(),\"main_\"+X]=np.NaN\n",
    "    \n",
    "\n",
    "listMain=[\"main_\"+col for col in listColEspece]\n",
    "\n",
    "plt.figure(figsize=(10,20))\n",
    "for X in listMain :\n",
    "    plt.subplot(3,1,listMain.index(X)+1)\n",
    "    plt.pie(x=dataPropre[X].value_counts(normalize=True),autopct=\"%.0f%%\")\n",
    "    plt.title(X,fontweight=\"bold\")\n",
    "    plt.legend(dataPropre[X].value_counts(normalize=True).index,bbox_to_anchor = (1., .95))\n",
    "plt.show()"
   ]
  },
  {
   "cell_type": "markdown",
   "id": "88fd5208",
   "metadata": {},
   "source": [
    "### Remplacer les catégories de `stade_developpement` par des termes plus explicites"
   ]
  },
  {
   "cell_type": "code",
   "execution_count": null,
   "id": "0965574a",
   "metadata": {},
   "outputs": [],
   "source": [
    "#change levels of stade_developpement\n",
    "dataPropre[\"stade_developpement\"].replace({\"J\":\"1-Jeune\", \"JA\":\"2-Jeune Adulte\", \"A\":\"3-Adulte\",\"M\":\"4-Mature\"},inplace=True)\n",
    "\n",
    "dataPropre[\"stade_developpement\"].unique()"
   ]
  },
  {
   "cell_type": "markdown",
   "id": "b3000cfc",
   "metadata": {},
   "source": [
    "## 2.3) Après le nettoyage <a class=\"anchor\" id=\"P23\"></a>"
   ]
  },
  {
   "cell_type": "code",
   "execution_count": null,
   "id": "c99a98cb",
   "metadata": {
    "scrolled": false
   },
   "outputs": [],
   "source": [
    "ms.matrix(dataPropre,color=[0.0,0.7,0.0],sparkline=False) #dataviz of missing data, AFTER cleaning\n",
    "plt.show()"
   ]
  },
  {
   "cell_type": "markdown",
   "id": "d4a77e17",
   "metadata": {},
   "source": [
    "# PARTIE 3 - SYNTHÈSE DE L'ANALYSE DE DONNÉES<a class=\"anchor\" id=\"P3\"></a>"
   ]
  },
  {
   "cell_type": "markdown",
   "id": "e3b81024",
   "metadata": {},
   "source": [
    "## 3.1) Optimiser les tournées - mesurer les arbres suspects <a class=\"anchor\" id=\"P31\"></a>"
   ]
  },
  {
   "cell_type": "markdown",
   "id": "29cabdf3",
   "metadata": {},
   "source": [
    "Si l'on part du principe que l'entretien d'un arbre n'est pas le même en fonction de ses dimensions (au niveau du matériel notamment), il pourrait être opportun de mener une campagne de mesurage.\n",
    "\n",
    "Essayons de repérer où ces arbres sont situés ?"
   ]
  },
  {
   "cell_type": "code",
   "execution_count": null,
   "id": "831cd076",
   "metadata": {},
   "outputs": [],
   "source": [
    "# focus on trees whose hauteur and circonference are NaN\n",
    "dataAMesurer=dataPropre.loc[(dataPropre[\"hauteur_cm\"].isna())|(dataPropre[\"circonference_cm\"].isna()),:]\n",
    "\n",
    "# in which arrondissement are they ?\n",
    "A=dataAMesurer[\"arrondissement\"].value_counts(ascending=True)\n",
    "\n",
    "# chart\n",
    "graph=plt.barh(y=A.index,width=A)\n",
    "plt.bar_label(graph)\n",
    "plt.show()"
   ]
  },
  {
   "cell_type": "markdown",
   "id": "5a5ad7be",
   "metadata": {},
   "source": [
    "## Brouillon stade développement pour chaque espece"
   ]
  },
  {
   "cell_type": "code",
   "execution_count": null,
   "id": "257cea54",
   "metadata": {
    "scrolled": false
   },
   "outputs": [],
   "source": [
    "plt.figure(figsize=(20,16))\n",
    "\n",
    "l=dataPropre[\"main_libelle_francais_GUESS\"].value_counts().index.tolist()\n",
    "\n",
    "for lib in l :\n",
    "    percentLib=str(round((len(dataPropre[\"main_libelle_francais_GUESS\"].loc[dataPropre[\"main_libelle_francais_GUESS\"]==lib])/len(dataPropre))*100,2))+\" %\"    \n",
    "    plt.subplot(round(len(l)/4),4,l.index(lib)+1)\n",
    "    count=dataPropre.loc[dataPropre[\"main_libelle_francais_GUESS\"]==lib,\"stade_developpement\"].value_counts(normalize=True).sort_index()\n",
    "    plt.pie(x=count,labels=count.index,autopct=\"%.0f%%\")\n",
    "    plt.title(lib+\" (\"+percentLib+\")\",fontweight=\"bold\")\n",
    "plt.suptitle(\"Age des arbres par espèce\", fontweight=\"bold\",fontsize=18)\n",
    "plt.show()"
   ]
  },
  {
   "cell_type": "markdown",
   "id": "1e27d589",
   "metadata": {},
   "source": [
    "## Brouillon especes pour chaque stade de developpement"
   ]
  },
  {
   "cell_type": "code",
   "execution_count": null,
   "id": "71be65e5",
   "metadata": {
    "scrolled": false
   },
   "outputs": [],
   "source": [
    "plt.figure(figsize=(20,16))\n",
    "\n",
    "l=dataPropre[\"stade_developpement\"].value_counts().sort_index().index.tolist()\n",
    "\n",
    "for age in l :\n",
    "    percentAge=str(round((len(dataPropre[\"stade_developpement\"].loc[dataPropre[\"stade_developpement\"]==age])/len(dataPropre))*100,2))+\" %\"    \n",
    "    plt.subplot(2,2,l.index(age)+1)\n",
    "    count=dataPropre.loc[dataPropre[\"stade_developpement\"]==age,\"main_libelle_francais_GUESS\"].value_counts(normalize=True)\n",
    "    plt.pie(x=count,labels=count.index,autopct=\"%.0f%%\")\n",
    "    plt.title(age+\" (\"+percentAge+\")\",fontweight=\"bold\")\n",
    "plt.suptitle(\"Répartition de l'age, par espèce\", fontweight=\"bold\",fontsize=18)\n",
    "plt.show()"
   ]
  },
  {
   "cell_type": "markdown",
   "id": "007e734e",
   "metadata": {},
   "source": [
    "## Brouillon hauteur par stade de developpement par espece"
   ]
  },
  {
   "cell_type": "code",
   "execution_count": null,
   "id": "700a69c3",
   "metadata": {},
   "outputs": [],
   "source": [
    "test=dataPropre.pivot_table(index=\"main_libelle_francais_GUESS\",columns=\"stade_developpement\",values=\"hauteur_cm\",aggfunc=\"mean\")\n",
    "test"
   ]
  },
  {
   "cell_type": "code",
   "execution_count": null,
   "id": "28f9cb27",
   "metadata": {},
   "outputs": [],
   "source": [
    "sns.catplot(\n",
    "    data=dataPropre,\n",
    "    y=\"main_libelle_francais_GUESS\",\n",
    "    x=\"hauteur_cm\",\n",
    "    hue=\"stade_developpement\",\n",
    "    kind=\"bar\")\n",
    "plt.show()"
   ]
  },
  {
   "cell_type": "code",
   "execution_count": null,
   "id": "2392b257",
   "metadata": {},
   "outputs": [],
   "source": [
    "test=dataPropre.loc[dataPropre.hauteur_cm==0,:]\n",
    "test"
   ]
  },
  {
   "cell_type": "code",
   "execution_count": null,
   "id": "0d2cf6ec",
   "metadata": {},
   "outputs": [],
   "source": []
  },
  {
   "cell_type": "markdown",
   "id": "efb70535",
   "metadata": {},
   "source": [
    "## Brouillon nombre d'arbre par age et par espece"
   ]
  },
  {
   "cell_type": "code",
   "execution_count": null,
   "id": "05322a06",
   "metadata": {},
   "outputs": [],
   "source": [
    "dataPropre.pivot_table(index=\"main_libelle_francais_GUESS\",columns=\"stade_developpement\",values=\"id\",aggfunc=\"count\")"
   ]
  },
  {
   "cell_type": "code",
   "execution_count": null,
   "id": "b1692516",
   "metadata": {},
   "outputs": [],
   "source": [
    "sns.catplot(\n",
    "    data=dataPropre,\n",
    "    y=\"main_libelle_francais_GUESS\",\n",
    "    x=\"id\",\n",
    "    kind=\"count\")\n",
    "plt.show()"
   ]
  }
 ],
 "metadata": {
  "kernelspec": {
   "display_name": "envP2",
   "language": "python",
   "name": "envp2"
  },
  "language_info": {
   "codemirror_mode": {
    "name": "ipython",
    "version": 3
   },
   "file_extension": ".py",
   "mimetype": "text/x-python",
   "name": "python",
   "nbconvert_exporter": "python",
   "pygments_lexer": "ipython3",
   "version": "3.11.2"
  }
 },
 "nbformat": 4,
 "nbformat_minor": 5
}
